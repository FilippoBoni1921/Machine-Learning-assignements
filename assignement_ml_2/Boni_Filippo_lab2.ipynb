{
 "cells": [
  {
   "cell_type": "markdown",
   "metadata": {},
   "source": [
    "# Kuzushiji Classification with Support Vector Machines\n",
    "\n",
    "In this notebook we are going to explore the use of Support Vector Machines (SVM) for image classification. We will use a variant of the famous MNIST dataset (the original is a dataset of handwritten digits). The version we are going to use is called Kuzushiji-MNIST or K-MNIST for short (https://github.com/rois-codh/kmnist) and is a dataset of traditional japanese handwritten kana.\n",
    "\n",
    "\n",
    "\n",
    "The dataset labels are the following:\n",
    "\n",
    "| Label | Hiragana Character | Romanji (Pronunciation) |\n",
    "| :-: | :-: | :-: |\n",
    "|   0   | お | o |\n",
    "| 1 | き | ki |\n",
    "| 2 | す | su |\n",
    "| 3 | つ | tsu |\n",
    "| 4 | な | na |\n",
    "| 5 | は | ha |\n",
    "| 6 | ま | ma |\n",
    "| 7 | や | ya |\n",
    "| 8 | れ | re |\n",
    "| 9 | を | wo |"
   ]
  },
  {
   "cell_type": "markdown",
   "metadata": {},
   "source": [
    "## TODO: Insert your surname, name and ID number\n",
    "\n",
    "Student surname: Boni \n",
    "\n",
    "Student name: Filippo\n",
    "    \n",
    "ID: 2057137"
   ]
  },
  {
   "cell_type": "code",
   "execution_count": 1,
   "metadata": {},
   "outputs": [],
   "source": [
    "#load the required packages\n",
    "\n",
    "%matplotlib inline  \n",
    "\n",
    "import numpy as np\n",
    "import scipy as sp\n",
    "import matplotlib.pyplot as plt\n",
    "\n",
    "import sklearn\n",
    "from sklearn.datasets import fetch_openml\n",
    "from sklearn.neural_network import MLPClassifier\n",
    "from sklearn.decomposition import PCA\n",
    "import sklearn.metrics as skm"
   ]
  },
  {
   "cell_type": "code",
   "execution_count": 2,
   "metadata": {},
   "outputs": [],
   "source": [
    "# helper function to load Kuzushiji-MNIST dataset\n",
    "def load_mnist(path, kind='train'):\n",
    "    import os\n",
    "    import gzip\n",
    "    import numpy as np\n",
    "    labels_path = os.path.join(path, 'K%s-labels-idx1-ubyte.gz' % kind)\n",
    "    images_path = os.path.join(path, 'K%s-images-idx3-ubyte.gz' % kind)\n",
    "    with gzip.open(labels_path, 'rb') as lbpath:\n",
    "        labels = np.frombuffer(lbpath.read(), dtype=np.uint8,offset=8)\n",
    "    with gzip.open(images_path, 'rb') as imgpath:\n",
    "        images = np.frombuffer(imgpath.read(), dtype=np.uint8,offset=16).reshape(len(labels), 784)\n",
    "    return images, labels"
   ]
  },
  {
   "cell_type": "code",
   "execution_count": 3,
   "metadata": {},
   "outputs": [],
   "source": [
    "#fix your ID (\"numero di matricola\") and the seed for random generator (as usual you can try different seeds)\n",
    "ID = 123456789\n",
    "np.random.seed(ID)"
   ]
  },
  {
   "cell_type": "code",
   "execution_count": 4,
   "metadata": {},
   "outputs": [
    {
     "name": "stdout",
     "output_type": "stream",
     "text": [
      "(60000, 784) (60000,)\n"
     ]
    }
   ],
   "source": [
    "#load the K-MNIST dataset from the 'data' folder and let's normalize the features so that each value is in [0,1] \n",
    "\n",
    "X, y = load_mnist('data', kind='train')\n",
    "# rescale the data\n",
    "X, y = X / 255., y # original pixel values are between 0 and 255\n",
    "print(X.shape, y.shape)"
   ]
  },
  {
   "cell_type": "markdown",
   "metadata": {},
   "source": [
    "Now split into training and test. Make sure that each label is present at least 10 times\n",
    "in training. If it is not, then keep adding permutations to the initial data until this \n",
    "happens."
   ]
  },
  {
   "cell_type": "code",
   "execution_count": 5,
   "metadata": {},
   "outputs": [
    {
     "name": "stdout",
     "output_type": "stream",
     "text": [
      "[0.         0.         0.         0.         0.         0.\n",
      " 0.         0.         0.         0.         0.         0.\n",
      " 0.         0.         0.         0.         0.         0.\n",
      " 0.         0.         0.         0.         0.         0.\n",
      " 0.         0.         0.         0.         0.         0.\n",
      " 0.         0.         0.         0.         0.         0.\n",
      " 0.         0.         0.         0.         0.         0.\n",
      " 0.         0.         0.         0.         0.         0.\n",
      " 0.         0.         0.         0.         0.         0.\n",
      " 0.         0.         0.         0.         0.         0.\n",
      " 0.         0.         0.         0.         0.         0.\n",
      " 0.         0.         0.         0.         0.         0.\n",
      " 0.         0.         0.         0.         0.         0.\n",
      " 0.         0.         0.         0.         0.         0.\n",
      " 0.         0.         0.         0.         0.         0.\n",
      " 0.         0.         0.         0.         0.         0.\n",
      " 0.         0.         0.         0.         0.         0.\n",
      " 0.         0.         0.         0.         0.         0.\n",
      " 0.         0.         0.         0.         0.         0.\n",
      " 0.         0.         0.         0.         0.         0.\n",
      " 0.         0.         0.         0.         0.         0.\n",
      " 0.         0.         0.         0.         0.         0.\n",
      " 0.         0.         0.         0.         0.         0.\n",
      " 0.         0.         0.         0.         0.         0.\n",
      " 0.         0.         0.         0.         0.         0.\n",
      " 0.         0.         0.         0.         0.         0.\n",
      " 0.         0.         0.         0.         0.         0.\n",
      " 0.         0.         0.         0.         0.         0.\n",
      " 0.         0.         0.         0.         0.         0.\n",
      " 0.01960784 0.25490196 0.51372549 0.54117647 0.62745098 0.6627451\n",
      " 0.47843137 0.0627451  0.         0.         0.00784314 0.00784314\n",
      " 0.         0.         0.         0.         0.00392157 0.\n",
      " 0.         0.         0.         0.         0.         0.\n",
      " 0.         0.         0.         0.         0.44313725 0.97647059\n",
      " 1.         1.         1.         1.         1.         0.79215686\n",
      " 0.27843137 0.28235294 0.56470588 0.70196078 0.5372549  0.37647059\n",
      " 0.13333333 0.01960784 0.         0.         0.         0.\n",
      " 0.         0.         0.07843137 0.30588235 0.20392157 0.05490196\n",
      " 0.02745098 0.13333333 0.92156863 1.         1.         1.\n",
      " 1.         1.         1.         1.         1.         1.\n",
      " 1.         1.         1.         1.         0.95686275 0.82745098\n",
      " 0.54901961 0.26666667 0.07843137 0.         0.         0.\n",
      " 0.49803922 0.99215686 0.97647059 0.91764706 0.82352941 0.87843137\n",
      " 1.         1.         1.         1.         1.         0.98431373\n",
      " 0.9372549  0.90588235 0.94117647 0.85490196 0.87058824 0.94117647\n",
      " 0.9372549  0.93333333 0.95294118 0.98039216 1.         1.\n",
      " 0.88627451 0.39607843 0.02745098 0.         0.25882353 0.98431373\n",
      " 1.         1.         1.         1.         1.         1.\n",
      " 1.         0.91372549 0.43921569 0.22352941 0.10588235 0.05490196\n",
      " 0.11372549 0.02745098 0.03529412 0.06666667 0.0627451  0.0627451\n",
      " 0.09803922 0.22745098 0.4745098  0.94509804 1.         0.97647059\n",
      " 0.40392157 0.00784314 0.         0.55294118 1.         1.\n",
      " 1.         1.         1.         1.         1.         0.80784314\n",
      " 0.0745098  0.         0.         0.         0.         0.\n",
      " 0.         0.         0.         0.         0.         0.\n",
      " 0.00392157 0.19607843 0.85490196 1.         0.98431373 0.40392157\n",
      " 0.         0.05882353 0.76862745 1.         1.         1.\n",
      " 1.         1.         1.         1.         0.81960784 0.11372549\n",
      " 0.         0.         0.         0.         0.         0.\n",
      " 0.         0.         0.         0.         0.         0.02352941\n",
      " 0.62745098 1.         1.         0.85882353 0.         0.\n",
      " 0.12941176 0.90196078 1.         1.         0.88627451 0.42352941\n",
      " 0.61176471 0.99607843 0.99607843 0.84705882 0.16078431 0.\n",
      " 0.         0.         0.         0.         0.         0.\n",
      " 0.         0.         0.02745098 0.43529412 0.98431373 1.\n",
      " 1.         0.87058824 0.         0.         0.         0.22352941\n",
      " 0.79607843 0.76862745 0.17647059 0.         0.05098039 0.46666667\n",
      " 0.97647059 1.         0.88627451 0.19607843 0.         0.\n",
      " 0.         0.         0.         0.01568627 0.16078431 0.41568627\n",
      " 0.85490196 1.         1.         1.         0.97254902 0.58823529\n",
      " 0.         0.         0.         0.         0.00784314 0.00392157\n",
      " 0.         0.         0.         0.00392157 0.43529412 0.98431373\n",
      " 1.         0.89019608 0.47058824 0.56078431 0.59607843 0.51764706\n",
      " 0.67843137 0.87843137 0.98823529 1.         1.         1.\n",
      " 1.         0.98431373 0.54509804 0.14117647 0.         0.\n",
      " 0.         0.         0.         0.         0.         0.\n",
      " 0.         0.         0.00784314 0.43921569 0.98823529 1.\n",
      " 1.         1.         1.         1.         0.99607843 1.\n",
      " 0.96470588 0.91764706 0.90980392 0.80784314 0.54117647 0.2627451\n",
      " 0.05098039 0.01960784 0.         0.         0.         0.\n",
      " 0.         0.         0.         0.         0.         0.\n",
      " 0.         0.01568627 0.57647059 0.99607843 1.         1.\n",
      " 1.         0.72941176 0.21568627 0.20784314 0.14117647 0.20784314\n",
      " 0.32941176 0.05098039 0.         0.         0.         0.00784314\n",
      " 0.         0.         0.         0.         0.         0.\n",
      " 0.         0.         0.         0.         0.         0.\n",
      " 0.02745098 0.6627451  1.         1.         1.         0.27058824\n",
      " 0.         0.         0.         0.04313725 0.18039216 0.\n",
      " 0.         0.         0.         0.         0.         0.\n",
      " 0.         0.         0.         0.         0.         0.\n",
      " 0.         0.         0.         0.         0.         0.13333333\n",
      " 0.96470588 1.         1.         0.51764706 0.         0.02745098\n",
      " 0.         0.         0.         0.         0.         0.\n",
      " 0.         0.         0.         0.         0.         0.\n",
      " 0.         0.         0.         0.         0.         0.\n",
      " 0.         0.         0.         0.         0.4745098  1.\n",
      " 1.         0.56078431 0.         0.00392157 0.         0.\n",
      " 0.         0.         0.         0.         0.         0.\n",
      " 0.         0.         0.         0.         0.         0.\n",
      " 0.         0.         0.         0.         0.         0.\n",
      " 0.         0.00392157 0.21568627 0.63529412 0.63529412 0.2627451\n",
      " 0.         0.         0.00784314 0.         0.         0.\n",
      " 0.         0.         0.         0.         0.         0.\n",
      " 0.         0.         0.         0.         0.         0.\n",
      " 0.         0.         0.         0.         0.         0.\n",
      " 0.         0.         0.         0.         0.         0.\n",
      " 0.         0.         0.         0.         0.         0.\n",
      " 0.         0.         0.         0.         0.         0.\n",
      " 0.         0.         0.         0.         0.         0.\n",
      " 0.         0.         0.         0.         0.         0.\n",
      " 0.         0.         0.         0.         0.         0.\n",
      " 0.         0.         0.         0.         0.         0.\n",
      " 0.         0.         0.         0.         0.         0.\n",
      " 0.         0.         0.         0.         0.         0.\n",
      " 0.         0.         0.         0.         0.         0.\n",
      " 0.         0.         0.         0.         0.         0.\n",
      " 0.         0.         0.         0.         0.         0.\n",
      " 0.         0.         0.         0.         0.         0.\n",
      " 0.         0.         0.         0.         0.         0.\n",
      " 0.         0.         0.         0.         0.         0.\n",
      " 0.         0.         0.         0.         0.         0.\n",
      " 0.         0.         0.         0.         0.         0.\n",
      " 0.         0.         0.         0.         0.         0.\n",
      " 0.         0.         0.         0.         0.         0.\n",
      " 0.         0.         0.         0.         0.         0.\n",
      " 0.         0.         0.         0.         0.         0.\n",
      " 0.         0.         0.         0.         0.         0.\n",
      " 0.         0.         0.         0.         0.         0.\n",
      " 0.         0.         0.         0.         0.         0.\n",
      " 0.         0.         0.         0.         0.         0.\n",
      " 0.         0.         0.         0.        ]\n",
      "(784,)\n",
      "(600, 784)\n",
      "Labels in training dataset:  [0 1 2 3 4 5 6 7 8 9]\n",
      "Frequencies in training dataset:  [59 59 67 63 54 62 49 62 72 53]\n"
     ]
    }
   ],
   "source": [
    "# Random permute the data and split into training and test taking the first 600\n",
    "# data samples as training and 4000 samples as test\n",
    "permutation = np.random.permutation(X.shape[0])\n",
    "\n",
    "X = X[permutation]\n",
    "y = y[permutation]\n",
    "\n",
    "m_training = 600 #small because could take time to do k-fold cv (if powerful pc use a larger number)\n",
    "m_test = 4000\n",
    "\n",
    "#why m_training<m_test? #small because could take time to do k-fold cv (if powerful pc use a larger number)\n",
    "\n",
    "X_train, X_test = X[:m_training], X[m_training:m_training+m_test:]\n",
    "y_train, y_test = y[:m_training], y[m_training:m_training+m_test:]\n",
    "\n",
    "print(X_train[0])\n",
    "print(X_train[0].shape)\n",
    "print(X_train.shape)\n",
    "\n",
    "\n",
    "labels, freqs = np.unique(y_train, return_counts=True)\n",
    "print(\"Labels in training dataset: \", labels)\n",
    "print(\"Frequencies in training dataset: \", freqs)\n"
   ]
  },
  {
   "cell_type": "code",
   "execution_count": 6,
   "metadata": {},
   "outputs": [],
   "source": [
    "#function for plotting a image and printing the corresponding label\n",
    "def plot_input(X_matrix, labels, index):\n",
    "    print(\"INPUT:\")\n",
    "    plt.imshow(\n",
    "        X_matrix[index].reshape(28,28),\n",
    "        cmap          = plt.cm.gray_r,\n",
    "        interpolation = \"nearest\"\n",
    "    )\n",
    "    plt.show()\n",
    "    print(\"LABEL: %i\"%labels[index])\n",
    "    return"
   ]
  },
  {
   "cell_type": "code",
   "execution_count": 7,
   "metadata": {},
   "outputs": [
    {
     "name": "stdout",
     "output_type": "stream",
     "text": [
      "INPUT:\n"
     ]
    },
    {
     "data": {
      "image/png": "[encoded data removed]",
      "text/plain": [
       "<Figure size 432x288 with 1 Axes>"
      ]
     },
     "metadata": {
      "needs_background": "light"
     },
     "output_type": "display_data"
    },
    {
     "name": "stdout",
     "output_type": "stream",
     "text": [
      "LABEL: 3\n",
      "INPUT:\n"
     ]
    },
    {
     "data": {
      "image/png": "[encoded data removed]",
      "text/plain": [
       "<Figure size 432x288 with 1 Axes>"
      ]
     },
     "metadata": {
      "needs_background": "light"
     },
     "output_type": "display_data"
    },
    {
     "name": "stdout",
     "output_type": "stream",
     "text": [
      "LABEL: 5\n",
      "INPUT:\n"
     ]
    },
    {
     "data": {
      "image/png": "[encoded data removed]",
      "text/plain": [
       "<Figure size 432x288 with 1 Axes>"
      ]
     },
     "metadata": {
      "needs_background": "light"
     },
     "output_type": "display_data"
    },
    {
     "name": "stdout",
     "output_type": "stream",
     "text": [
      "LABEL: 4\n",
      "INPUT:\n"
     ]
    },
    {
     "data": {
      "image/png": "[encoded data removed]",
      "text/plain": [
       "<Figure size 432x288 with 1 Axes>"
      ]
     },
     "metadata": {
      "needs_background": "light"
     },
     "output_type": "display_data"
    },
    {
     "name": "stdout",
     "output_type": "stream",
     "text": [
      "LABEL: 5\n"
     ]
    }
   ],
   "source": [
    "#let's try the plotting function\n",
    "plot_input(X_train,y_train,5)\n",
    "plot_input(X_test,y_test,50)\n",
    "plot_input(X_test,y_test,500)\n",
    "plot_input(X_test,y_test,700)"
   ]
  },
  {
   "cell_type": "markdown",
   "metadata": {},
   "source": [
    "## TO DO 1\n",
    "Use a SVM classifier with cross validation to pick a model. Use a 4-fold cross-validation. Let's start with a Linear kernel:"
   ]
  },
  {
   "cell_type": "code",
   "execution_count": 8,
   "metadata": {},
   "outputs": [
    {
     "name": "stdout",
     "output_type": "stream",
     "text": [
      "RESULTS FOR LINEAR KERNEL\n",
      "Best parameters set found:\n",
      "{'C': 0.1}\n",
      "0.1\n",
      "Score with best parameters:\n",
      "0.7466666666666667\n",
      "All scores on the grid:\n",
      "[0.735      0.74666667 0.745      0.745     ]\n",
      "All scores:\n",
      "{'mean_fit_time': array([0.05126244, 0.03894293, 0.04353768, 0.05237311]), 'std_fit_time': array([0.01184949, 0.00053063, 0.00213936, 0.01294343]), 'mean_score_time': array([0.01858169, 0.01004177, 0.01249582, 0.01358402]), 'std_score_time': array([0.01142733, 0.00097477, 0.00356162, 0.00626728]), 'param_C': masked_array(data=[0.01, 0.1, 1, 10],\n",
      "             mask=[False, False, False, False],\n",
      "       fill_value='?',\n",
      "            dtype=object), 'params': [{'C': 0.01}, {'C': 0.1}, {'C': 1}, {'C': 10}], 'split0_test_score': array([0.72666667, 0.76666667, 0.76      , 0.76      ]), 'split1_test_score': array([0.71333333, 0.73333333, 0.73333333, 0.73333333]), 'split2_test_score': array([0.75333333, 0.73333333, 0.73333333, 0.73333333]), 'split3_test_score': array([0.74666667, 0.75333333, 0.75333333, 0.75333333]), 'mean_test_score': array([0.735     , 0.74666667, 0.745     , 0.745     ]), 'std_test_score': array([0.01589899, 0.01414214, 0.01190238, 0.01190238]), 'rank_test_score': array([4, 1, 2, 2], dtype=int32)}\n"
     ]
    }
   ],
   "source": [
    "#import SVC #rember use \n",
    "from sklearn.svm import SVC\n",
    "#import for Cross-Validation\n",
    "from sklearn.model_selection import GridSearchCV\n",
    "\n",
    "# parameters for linear SVM\n",
    "parameters = {'C': [0.01, 0.1, 1 , 10]}\n",
    "\n",
    "\n",
    "#train linear SVM\n",
    "\n",
    "svc = SVC(kernel='linear')\n",
    "\n",
    "\n",
    "grid = GridSearchCV(svc, parameters, cv=4)\n",
    "\n",
    "grid.fit(X_train,y_train)\n",
    "\n",
    "\n",
    "\n",
    "print ('RESULTS FOR LINEAR KERNEL')\n",
    "\n",
    "print(\"Best parameters set found:\")\n",
    "print(grid.best_params_)\n",
    "\n",
    "c=grid.best_params_['C']\n",
    "print(c)\n",
    "\n",
    "\n",
    "print(\"Score with best parameters:\")\n",
    "print(grid.best_score_)\n",
    "\n",
    "print(\"All scores on the grid:\")\n",
    "print(grid.cv_results_['mean_test_score'])\n",
    "\n",
    "print('All scores:')\n",
    "print(grid.cv_results_)\n"
   ]
  },
  {
   "cell_type": "markdown",
   "metadata": {},
   "source": [
    "## TO DO 2\n",
    "Pick a model for the Polynomial kernel with degree=2:"
   ]
  },
  {
   "cell_type": "code",
   "execution_count": 9,
   "metadata": {},
   "outputs": [
    {
     "name": "stdout",
     "output_type": "stream",
     "text": [
      "RESULTS FOR POLYNOMIAL KERNEL OF DEGREE 2\n",
      "Best parameters set found:\n",
      "{'C': 0.01, 'gamma': 1}\n",
      "Score with best parameters:\n",
      "0.7849999999999999\n",
      "All scores on the grid:\n",
      "[0.12       0.75333333 0.785      0.39166667 0.785      0.785\n",
      " 0.75333333 0.785      0.785     ]\n",
      "All scores:\n",
      "{'mean_fit_time': array([0.06452626, 0.04675394, 0.083354  , 0.08235776, 0.08750302,\n",
      "       0.09254998, 0.06992316, 0.07463646, 0.05072206]), 'std_fit_time': array([0.01016086, 0.00117645, 0.01620351, 0.01774696, 0.01781078,\n",
      "       0.01852859, 0.0190683 , 0.02444873, 0.00157147]), 'mean_score_time': array([0.01260751, 0.01158029, 0.01961809, 0.02347428, 0.02121645,\n",
      "       0.02392679, 0.02099895, 0.01579827, 0.00964344]), 'std_score_time': array([0.00085763, 0.00183835, 0.00627883, 0.00604692, 0.00795456,\n",
      "       0.00529496, 0.00687912, 0.00659007, 0.00016791]), 'param_C': masked_array(data=[0.01, 0.01, 0.01, 0.1, 0.1, 0.1, 1, 1, 1],\n",
      "             mask=[False, False, False, False, False, False, False, False,\n",
      "                   False],\n",
      "       fill_value='?',\n",
      "            dtype=object), 'param_gamma': masked_array(data=[0.01, 0.1, 1, 0.01, 0.1, 1, 0.01, 0.1, 1],\n",
      "             mask=[False, False, False, False, False, False, False, False,\n",
      "                   False],\n",
      "       fill_value='?',\n",
      "            dtype=object), 'params': [{'C': 0.01, 'gamma': 0.01}, {'C': 0.01, 'gamma': 0.1}, {'C': 0.01, 'gamma': 1}, {'C': 0.1, 'gamma': 0.01}, {'C': 0.1, 'gamma': 0.1}, {'C': 0.1, 'gamma': 1}, {'C': 1, 'gamma': 0.01}, {'C': 1, 'gamma': 0.1}, {'C': 1, 'gamma': 1}], 'split0_test_score': array([0.12      , 0.76666667, 0.79333333, 0.40666667, 0.79333333,\n",
      "       0.79333333, 0.76666667, 0.79333333, 0.79333333]), 'split1_test_score': array([0.12      , 0.72666667, 0.76      , 0.36666667, 0.76      ,\n",
      "       0.76      , 0.72666667, 0.76      , 0.76      ]), 'split2_test_score': array([0.12      , 0.76      , 0.76666667, 0.39333333, 0.76666667,\n",
      "       0.76666667, 0.76      , 0.76666667, 0.76666667]), 'split3_test_score': array([0.12, 0.76, 0.82, 0.4 , 0.82, 0.82, 0.76, 0.82, 0.82]), 'mean_test_score': array([0.12      , 0.75333333, 0.785     , 0.39166667, 0.785     ,\n",
      "       0.785     , 0.75333333, 0.785     , 0.785     ]), 'std_test_score': array([0.        , 0.01563472, 0.02374634, 0.01518406, 0.02374634,\n",
      "       0.02374634, 0.01563472, 0.02374634, 0.02374634]), 'rank_test_score': array([9, 6, 1, 8, 1, 1, 6, 1, 1], dtype=int32)}\n"
     ]
    }
   ],
   "source": [
    "# parameters for poly with degree 2 kernel\n",
    "parameters = {'C': [0.01, 0.1, 1],'gamma':[0.01,0.1,1]}\n",
    "\n",
    "#run SVM with poly of degree 2 kernel\n",
    "\n",
    "degree=2\n",
    "\n",
    "svc = SVC(kernel='poly', degree=2)\n",
    "\n",
    "grid = GridSearchCV(svc, parameters, cv=4)\n",
    "\n",
    "grid.fit(X_train,y_train)\n",
    "\n",
    "\n",
    "\n",
    "print (f'RESULTS FOR POLYNOMIAL KERNEL OF DEGREE {degree}')\n",
    "\n",
    "print(\"Best parameters set found:\")\n",
    "print(grid.best_params_)\n",
    "\n",
    "\n",
    "print(\"Score with best parameters:\")\n",
    "print(grid.best_score_)\n",
    "\n",
    "print(\"All scores on the grid:\")\n",
    "print(grid.cv_results_['mean_test_score'])\n",
    "\n",
    "print('All scores:')\n",
    "print(grid.cv_results_)"
   ]
  },
  {
   "cell_type": "markdown",
   "metadata": {},
   "source": [
    "## TO DO 3\n",
    "\n",
    "Now let's try a higher degree for the polynomial kernel (e.g., 3rd degree)."
   ]
  },
  {
   "cell_type": "code",
   "execution_count": 10,
   "metadata": {},
   "outputs": [
    {
     "name": "stdout",
     "output_type": "stream",
     "text": [
      "RESULTS FOR POLYNOMIAL KERNEL OF DEGREE 3\n",
      "Best parameters set found:\n",
      "{'C': 0.01, 'gamma': 0.1}\n",
      "Score with best parameters:\n",
      "0.73\n",
      "All scores on the grid:\n",
      "[0.12       0.73       0.72333333 0.33833333 0.72333333 0.72333333\n",
      " 0.68166667 0.72333333 0.72333333]\n",
      "All scores:\n",
      "{'mean_fit_time': array([0.09636664, 0.06373674, 0.09010446, 0.05523896, 0.0749324 ,\n",
      "       0.07149404, 0.06077486, 0.0810867 , 0.06464016]), 'std_fit_time': array([0.0056263 , 0.01800425, 0.02406568, 0.00102803, 0.02339437,\n",
      "       0.02387856, 0.01670815, 0.01836988, 0.01376995]), 'mean_score_time': array([0.02490628, 0.01000446, 0.01535958, 0.01150924, 0.01794326,\n",
      "       0.01025325, 0.01326489, 0.0156064 , 0.01068479]), 'std_score_time': array([0.00407295, 0.0012214 , 0.00217018, 0.00032094, 0.00983544,\n",
      "       0.00097865, 0.00500592, 0.00365373, 0.00207435]), 'param_C': masked_array(data=[0.01, 0.01, 0.01, 0.1, 0.1, 0.1, 1, 1, 1],\n",
      "             mask=[False, False, False, False, False, False, False, False,\n",
      "                   False],\n",
      "       fill_value='?',\n",
      "            dtype=object), 'param_gamma': masked_array(data=[0.01, 0.1, 1, 0.01, 0.1, 1, 0.01, 0.1, 1],\n",
      "             mask=[False, False, False, False, False, False, False, False,\n",
      "                   False],\n",
      "       fill_value='?',\n",
      "            dtype=object), 'params': [{'C': 0.01, 'gamma': 0.01}, {'C': 0.01, 'gamma': 0.1}, {'C': 0.01, 'gamma': 1}, {'C': 0.1, 'gamma': 0.01}, {'C': 0.1, 'gamma': 0.1}, {'C': 0.1, 'gamma': 1}, {'C': 1, 'gamma': 0.01}, {'C': 1, 'gamma': 0.1}, {'C': 1, 'gamma': 1}], 'split0_test_score': array([0.12      , 0.75333333, 0.74666667, 0.34666667, 0.74666667,\n",
      "       0.74666667, 0.7       , 0.74666667, 0.74666667]), 'split1_test_score': array([0.12      , 0.68666667, 0.69333333, 0.36      , 0.69333333,\n",
      "       0.69333333, 0.63333333, 0.69333333, 0.69333333]), 'split2_test_score': array([0.12      , 0.72      , 0.70666667, 0.33333333, 0.70666667,\n",
      "       0.70666667, 0.7       , 0.70666667, 0.70666667]), 'split3_test_score': array([0.12      , 0.76      , 0.74666667, 0.31333333, 0.74666667,\n",
      "       0.74666667, 0.69333333, 0.74666667, 0.74666667]), 'mean_test_score': array([0.12      , 0.73      , 0.72333333, 0.33833333, 0.72333333,\n",
      "       0.72333333, 0.68166667, 0.72333333, 0.72333333]), 'std_test_score': array([0.        , 0.02924988, 0.02380476, 0.01724013, 0.02380476,\n",
      "       0.02380476, 0.02803767, 0.02380476, 0.02380476]), 'rank_test_score': array([9, 1, 2, 8, 2, 2, 7, 2, 2], dtype=int32)}\n"
     ]
    }
   ],
   "source": [
    "# parameters for poly with higher degree kernel\n",
    "parameters = {'C': [0.01, 0.1, 1],'gamma':[0.01,0.1,1]}\n",
    "\n",
    "#run SVM with poly of higher degree kernel\n",
    "degree = 3\n",
    "\n",
    "svc = SVC(kernel='poly', degree=3)\n",
    "\n",
    "\n",
    "grid = GridSearchCV(svc, parameters, cv=4)\n",
    "\n",
    "grid.fit(X_train,y_train)\n",
    "\n",
    "\n",
    "\n",
    "print (f'RESULTS FOR POLYNOMIAL KERNEL OF DEGREE {degree}')\n",
    "\n",
    "print(\"Best parameters set found:\")\n",
    "print(grid.best_params_)\n",
    "\n",
    "\n",
    "print(\"Score with best parameters:\")\n",
    "print(grid.best_score_)\n",
    "\n",
    "print(\"All scores on the grid:\")\n",
    "print(grid.cv_results_['mean_test_score'])\n",
    "\n",
    "print('All scores:')\n",
    "print(grid.cv_results_)"
   ]
  },
  {
   "cell_type": "markdown",
   "metadata": {},
   "source": [
    "## TO DO 4\n",
    "Pick a model for the Radial Basis Function kernel:"
   ]
  },
  {
   "cell_type": "code",
   "execution_count": 11,
   "metadata": {},
   "outputs": [
    {
     "name": "stdout",
     "output_type": "stream",
     "text": [
      "RESULTS FOR LINEAR KERNEL\n",
      "Best parameters set found:\n",
      "{'C': 10, 'gamma': 0.01}\n",
      "Score with best parameters:\n",
      "0.8133333333333334\n",
      "All scores on the grid:\n",
      "[0.12       0.16166667 0.12       0.12       0.59666667 0.79166667\n",
      " 0.14333333 0.12       0.76666667 0.81333333 0.16333333 0.12\n",
      " 0.76333333 0.81333333 0.16333333 0.12      ]\n",
      "All scores:\n",
      "{'mean_fit_time': array([0.08010131, 0.1111567 , 0.10742229, 0.10288858, 0.09279203,\n",
      "       0.06951445, 0.07691914, 0.0698635 , 0.04134846, 0.09905314,\n",
      "       0.08916652, 0.07605106, 0.04941982, 0.0681895 , 0.07480472,\n",
      "       0.07449973]), 'std_fit_time': array([0.01579243, 0.02496495, 0.02219044, 0.01697779, 0.01704405,\n",
      "       0.0143033 , 0.01046185, 0.00158989, 0.00099421, 0.02293855,\n",
      "       0.00764255, 0.00360894, 0.00212974, 0.00282605, 0.00200011,\n",
      "       0.00090278]), 'mean_score_time': array([0.03735477, 0.05221719, 0.06240326, 0.05000389, 0.04914027,\n",
      "       0.02592903, 0.03449684, 0.03070402, 0.02370203, 0.03147119,\n",
      "       0.03751832, 0.02989888, 0.02456844, 0.0290938 , 0.03258872,\n",
      "       0.03078729]), 'std_score_time': array([0.01441778, 0.0091519 , 0.0070813 , 0.01117624, 0.01253937,\n",
      "       0.00128445, 0.01167163, 0.00645751, 0.00041787, 0.00617803,\n",
      "       0.00422347, 0.00122408, 0.00091214, 0.00231679, 0.00130914,\n",
      "       0.00103205]), 'param_C': masked_array(data=[0.1, 0.1, 0.1, 0.1, 1, 1, 1, 1, 10, 10, 10, 10, 100,\n",
      "                   100, 100, 100],\n",
      "             mask=[False, False, False, False, False, False, False, False,\n",
      "                   False, False, False, False, False, False, False, False],\n",
      "       fill_value='?',\n",
      "            dtype=object), 'param_gamma': masked_array(data=[0.001, 0.01, 0.1, 1, 0.001, 0.01, 0.1, 1, 0.001, 0.01,\n",
      "                   0.1, 1, 0.001, 0.01, 0.1, 1],\n",
      "             mask=[False, False, False, False, False, False, False, False,\n",
      "                   False, False, False, False, False, False, False, False],\n",
      "       fill_value='?',\n",
      "            dtype=object), 'params': [{'C': 0.1, 'gamma': 0.001}, {'C': 0.1, 'gamma': 0.01}, {'C': 0.1, 'gamma': 0.1}, {'C': 0.1, 'gamma': 1}, {'C': 1, 'gamma': 0.001}, {'C': 1, 'gamma': 0.01}, {'C': 1, 'gamma': 0.1}, {'C': 1, 'gamma': 1}, {'C': 10, 'gamma': 0.001}, {'C': 10, 'gamma': 0.01}, {'C': 10, 'gamma': 0.1}, {'C': 10, 'gamma': 1}, {'C': 100, 'gamma': 0.001}, {'C': 100, 'gamma': 0.01}, {'C': 100, 'gamma': 0.1}, {'C': 100, 'gamma': 1}], 'split0_test_score': array([0.12      , 0.16      , 0.12      , 0.12      , 0.6       ,\n",
      "       0.78      , 0.15333333, 0.12      , 0.77333333, 0.80666667,\n",
      "       0.16666667, 0.12      , 0.75333333, 0.80666667, 0.16666667,\n",
      "       0.12      ]), 'split1_test_score': array([0.12      , 0.12666667, 0.12      , 0.12      , 0.52666667,\n",
      "       0.78      , 0.13333333, 0.12      , 0.74666667, 0.79333333,\n",
      "       0.16      , 0.12      , 0.76      , 0.79333333, 0.16      ,\n",
      "       0.12      ]), 'split2_test_score': array([0.12      , 0.15333333, 0.12      , 0.12      , 0.64      ,\n",
      "       0.81333333, 0.14      , 0.12      , 0.76      , 0.82      ,\n",
      "       0.15333333, 0.12      , 0.75333333, 0.82      , 0.15333333,\n",
      "       0.12      ]), 'split3_test_score': array([0.12      , 0.20666667, 0.12      , 0.12      , 0.62      ,\n",
      "       0.79333333, 0.14666667, 0.12      , 0.78666667, 0.83333333,\n",
      "       0.17333333, 0.12      , 0.78666667, 0.83333333, 0.17333333,\n",
      "       0.12      ]), 'mean_test_score': array([0.12      , 0.16166667, 0.12      , 0.12      , 0.59666667,\n",
      "       0.79166667, 0.14333333, 0.12      , 0.76666667, 0.81333333,\n",
      "       0.16333333, 0.12      , 0.76333333, 0.81333333, 0.16333333,\n",
      "       0.12      ]), 'std_test_score': array([0.        , 0.02881936, 0.        , 0.        , 0.04281744,\n",
      "       0.01364225, 0.00745356, 0.        , 0.01490712, 0.01490712,\n",
      "       0.00745356, 0.        , 0.01374369, 0.01490712, 0.00745356,\n",
      "       0.        ]), 'rank_test_score': array([11,  9, 11, 11,  6,  3, 10, 11,  4,  1,  7, 11,  5,  1,  7, 11],\n",
      "      dtype=int32)}\n"
     ]
    }
   ],
   "source": [
    "# parameters for rbf SVM\n",
    "parameters = {'C': [0.1, 1, 10, 100],'gamma':[0.001, 0.01, 0.1,1]} #expectation: accuracy in trainining increases with gamma\n",
    "#tha test increases, has a pick and that gets low while gamma increases\n",
    "\n",
    "\n",
    "\n",
    "svc = SVC(kernel='rbf')\n",
    "\n",
    "grid = GridSearchCV(svc, parameters, cv=4)\n",
    "\n",
    "grid.fit(X_train,y_train)\n",
    "\n",
    "\n",
    "\n",
    "print ('RESULTS FOR LINEAR KERNEL')\n",
    "\n",
    "print(\"Best parameters set found:\")\n",
    "print(grid.best_params_)\n",
    "\n",
    "\n",
    "print(\"Score with best parameters:\")\n",
    "print(grid.best_score_)\n",
    "\n",
    "print(\"All scores on the grid:\")\n",
    "print(grid.cv_results_['mean_test_score'])\n",
    "\n",
    "print('All scores:')\n",
    "print(grid.cv_results_)"
   ]
  },
  {
   "cell_type": "markdown",
   "metadata": {},
   "source": [
    "## QUESTION 1\n",
    "What do you observe when using linear, polynomial and RBF kernels on this dataset ?"
   ]
  },
  {
   "cell_type": "markdown",
   "metadata": {},
   "source": [
    "## Answer 1\n",
    "\n",
    "Firstly lets compare the best scores of the different model with the associated parameters, starting from the best one:\n",
    "- RBF, score: 0.8133334, C: 10, gamma: 0.01\n",
    "- polynomial degree 2, score: 0.7849999999999999 , C: 0.01, gamma: 1\n",
    "- linear, score:0.7466666666666667, C: 0.1\n",
    "- polynomial degree 3, score: 0.73, C: 0.01, gamma: 0.1\n",
    "\n",
    "It's easy to see that the best result comes from the RBF model. This fact is reasonable because using the RBF kernel is equivalent to use apolynomial kernel of degree=$\\infty$ and so it is like to learn any polynomial predictor. \n",
    "\n",
    "Note: there are more the one best solution in every predictor, but the linear one, if we evaluate them  them only on the basis of the value of the score. This solutions are equivalent"
   ]
  },
  {
   "cell_type": "markdown",
   "metadata": {},
   "source": [
    "## TO DO 5\n",
    "Report here the best SVM kernel and parameters"
   ]
  },
  {
   "cell_type": "code",
   "execution_count": 12,
   "metadata": {},
   "outputs": [
    {
     "name": "stdout",
     "output_type": "stream",
     "text": [
      "1.0\n",
      "0.80425\n",
      "Best SVM training error: 0.000000\n",
      "Best SVM test error: 0.195750\n"
     ]
    }
   ],
   "source": [
    "#get training and test error for the best SVM model from CV\n",
    "\n",
    "# (error is 1 - svm.score)\n",
    "\n",
    "best_SVC = SVC(C=10, kernel='rbf', gamma=0.01)\n",
    "\n",
    "best_SVC.fit(X_train, y_train)\n",
    "\n",
    "print(best_SVC.score(X_train, y_train))\n",
    "print(best_SVC.score(X_test, y_test))\n",
    "\n",
    "\n",
    "training_error=1-best_SVC.score(X_train, y_train)\n",
    "test_error=1-best_SVC.score(X_test, y_test)\n",
    "\n",
    "\n",
    "print (\"Best SVM training error: %f\" % training_error)\n",
    "print (\"Best SVM test error: %f\" % test_error)"
   ]
  },
  {
   "cell_type": "markdown",
   "metadata": {},
   "source": [
    "## TO DO 6\n",
    "\n",
    "Analyze how the gamma parameter (inversely proportional to standard deviation of Gaussian Kernel) impact the performances of the classifier"
   ]
  },
  {
   "cell_type": "code",
   "execution_count": 13,
   "metadata": {},
   "outputs": [
    {
     "name": "stdout",
     "output_type": "stream",
     "text": [
      "[1.e-05 1.e-04 1.e-03 1.e-02 1.e-01 1.e+00 1.e+01 1.e+02]\n"
     ]
    }
   ],
   "source": [
    "#Test with different values of gamma\n",
    "\n",
    "# Set gamma values\n",
    "gamma_values = np.logspace(-5,2,8)\n",
    "print(gamma_values)\n"
   ]
  },
  {
   "cell_type": "code",
   "execution_count": 14,
   "metadata": {},
   "outputs": [
    {
     "data": {
      "image/png": "[encoded data removed]",
      "text/plain": [
       "<Figure size 1080x360 with 2 Axes>"
      ]
     },
     "metadata": {
      "needs_background": "light"
     },
     "output_type": "display_data"
    }
   ],
   "source": [
    "# Try the SVM with the previously set values of gamma\n",
    "# use rbf kernel and C=1\n",
    "\n",
    "train_acc_list, test_acc_list = [], []\n",
    "\n",
    "    \n",
    "# ADD YOUR CODE TO TRAIN THE SVM MULTIPLE TIMES WITH THE DIFFERENT VALUES OF GAMMA\n",
    "for i in gamma_values:\n",
    "    \n",
    "    svc=SVC(C=1, kernel='rbf', gamma=i)\n",
    "    svc.fit(X_train, y_train)\n",
    "    \n",
    "    train_acc_list.append(svc.score(X_train, y_train))\n",
    "    test_acc_list.append(svc.score(X_test, y_test))\n",
    "    \n",
    "    \n",
    "    \n",
    "# PLACE THE TRAIN AND TEST ACCURACY FOR EACH TEST IN THE TRAIN AND TEST ACCURACY LISTS\n",
    "\n",
    "# Plot\n",
    "fig, ax = plt.subplots(1,2, figsize=(15,5))\n",
    "\n",
    "ax[0].plot(gamma_values, train_acc_list)\n",
    "ax[0].set_xscale('log')\n",
    "ax[0].set_xlabel('gamma')\n",
    "ax[0].set_ylabel('Train accuracy')\n",
    "ax[0].grid(True)\n",
    "\n",
    "ax[1].plot(gamma_values, test_acc_list)\n",
    "ax[1].set_xscale('log')\n",
    "ax[1].set_xlabel('gamma')\n",
    "ax[1].set_ylabel('Test accuracy')\n",
    "ax[1].grid(True)\n",
    "\n",
    "\n",
    "plt.show()"
   ]
  },
  {
   "cell_type": "markdown",
   "metadata": {},
   "source": [
    "## QUESTION 2\n",
    "How do the train and test error change when changing gamma ? Which is the best value of gamma ? \n",
    "Connect your answers to the discussion about the overfitting issue."
   ]
  },
  {
   "cell_type": "markdown",
   "metadata": {},
   "source": [
    "## Answer 2\n",
    "\n",
    "From the plots it easy to see that:\n",
    "- the training accuracy increases with gamma, converging to 1 when gamma=$0.1$\n",
    "- the test accuracy increases till gamma=$0.01$ where there is a top. Then it decreases\n",
    "\n",
    "Comparing the two plots it is possible to assert that the best value of gamma is $0.01$, since the training accuracy and test accuracy are both high. With bigger values of gamma we have low values of test accuracy and high training accuracy. This is a classic situation of overfitting. "
   ]
  },
  {
   "cell_type": "markdown",
   "metadata": {},
   "source": [
    "## More data\n",
    "Now let's do the same but using more data points for training.\n",
    "\n",
    "\n",
    "Choose a new number of data points."
   ]
  },
  {
   "cell_type": "code",
   "execution_count": 15,
   "metadata": {},
   "outputs": [
    {
     "name": "stdout",
     "output_type": "stream",
     "text": [
      "Labels in training dataset:  [0 1 2 3 4 5 6 7 8 9]\n",
      "Frequencies in training dataset:  [196 187 212 215 219 214 196 179 189 193]\n"
     ]
    }
   ],
   "source": [
    "X = X[permutation]\n",
    "y = y[permutation]\n",
    "\n",
    "m_training = 2000 # TODO number of data points, adjust depending on the capabilities of your PC\n",
    "\n",
    "X_train, X_test = X[:m_training], X[m_training:]\n",
    "y_train, y_test = y[:m_training], y[m_training:]\n",
    "\n",
    "labels, freqs = np.unique(y_train, return_counts=True)\n",
    "print(\"Labels in training dataset: \", labels)\n",
    "print(\"Frequencies in training dataset: \", freqs)"
   ]
  },
  {
   "cell_type": "markdown",
   "metadata": {},
   "source": [
    "## TO DO 7\n",
    "\n",
    "Let's try to use SVM with parameters obtained from the best model for $m_{training} =  2000$. Since it may take a long time to run, you can decide to just let it run for some time and stop it if it does not complete. If you decide to do this, report it in the cell below."
   ]
  },
  {
   "cell_type": "code",
   "execution_count": 16,
   "metadata": {
    "scrolled": true
   },
   "outputs": [
    {
     "name": "stdout",
     "output_type": "stream",
     "text": [
      "1.0\n",
      "0.8873448275862069\n",
      "Best SVM training error: 0.000000\n",
      "Best SVM test error: 0.112655\n"
     ]
    }
   ],
   "source": [
    "#get training and test error for the best SVM model from CV\n",
    "\n",
    "svc = SVC(C=10, kernel='rbf', gamma=0.01)\n",
    "\n",
    "svc.fit(X_train, y_train)\n",
    "\n",
    "print(svc.score(X_train, y_train))\n",
    "print(svc.score(X_test, y_test))\n",
    "\n",
    "\n",
    "training_error=1-svc.score(X_train, y_train)\n",
    "test_error=1-svc.score(X_test, y_test)\n",
    "\n",
    "print (\"Best SVM training error: %f\" % training_error)\n",
    "print (\"Best SVM test error: %f\" % test_error)"
   ]
  },
  {
   "cell_type": "markdown",
   "metadata": {},
   "source": [
    "Just for comparison, let's also use logistic regression \n",
    "\n",
    "## TO DO 8 Try first without regularization (use a very large large C)¶"
   ]
  },
  {
   "cell_type": "code",
   "execution_count": 17,
   "metadata": {},
   "outputs": [
    {
     "name": "stdout",
     "output_type": "stream",
     "text": [
      "Best logistic regression training error: 0.000000\n",
      "Best logistic regression test error: 0.302448\n"
     ]
    }
   ],
   "source": [
    "from sklearn import linear_model\n",
    "\n",
    "logreg = linear_model.LogisticRegression(C=1e10) #a large C disables regularization\n",
    "\n",
    "logreg.fit(X_train, y_train)\n",
    "\n",
    "training_error=1-logreg.score(X_train, y_train)\n",
    "test_error=1-logreg.score(X_test, y_test)\n",
    "\n",
    "print (\"Best logistic regression training error: %f\" % training_error)\n",
    "print (\"Best logistic regression test error: %f\" % test_error)"
   ]
  },
  {
   "cell_type": "markdown",
   "metadata": {},
   "source": [
    "## TO DO 9 Try  with regularization (use C=1)¶"
   ]
  },
  {
   "cell_type": "code",
   "execution_count": 18,
   "metadata": {},
   "outputs": [
    {
     "name": "stdout",
     "output_type": "stream",
     "text": [
      "Best regularized logistic regression training error: 0.002500\n",
      "Best regularized logistic regression test error: 0.258776\n"
     ]
    },
    {
     "name": "stderr",
     "output_type": "stream",
     "text": [
      "/Users/filippoboni/opt/anaconda3/lib/python3.8/site-packages/sklearn/linear_model/_logistic.py:763: ConvergenceWarning: lbfgs failed to converge (status=1):\n",
      "STOP: TOTAL NO. of ITERATIONS REACHED LIMIT.\n",
      "\n",
      "Increase the number of iterations (max_iter) or scale the data as shown in:\n",
      "    https://scikit-learn.org/stable/modules/preprocessing.html\n",
      "Please also refer to the documentation for alternative solver options:\n",
      "    https://scikit-learn.org/stable/modules/linear_model.html#logistic-regression\n",
      "  n_iter_i = _check_optimize_result(\n"
     ]
    }
   ],
   "source": [
    "logreg = linear_model.LogisticRegression(C=1) \n",
    "\n",
    "logreg.fit(X_train, y_train)\n",
    "\n",
    "training_error=1-logreg.score(X_train, y_train)\n",
    "test_error=1-logreg.score(X_test, y_test)\n",
    "\n",
    "print (\"Best regularized logistic regression training error: %f\" % training_error)\n",
    "print (\"Best regularized logistic regression test error: %f\" % test_error)"
   ]
  },
  {
   "cell_type": "markdown",
   "metadata": {},
   "source": [
    "## QUESTION 3\n",
    "Compare and discuss:\n",
    "- the results from SVM with m=600 and with m=2000 training data points. If you stopped the SVM, include such aspect in your comparison.\n",
    "- the results of SVM and of Logistic Regression"
   ]
  },
  {
   "cell_type": "markdown",
   "metadata": {},
   "source": [
    "## Answer 3\n",
    "\n",
    "#### First question:\n",
    "In both cases the SVM get a training error equal to $0$, but the test error coming from the SVM working on the m=2000 training dataset is almost an half of the one working on m=600 dataset. This is what we expect by increasing the dimension of the training dataset: we obtain an algortithm which has more samples to learn from. \n",
    "So getting a better result from the second case was quite predictable.\n",
    "\n",
    "#### Second question:\n",
    "Both cases of the SVM get better results of both cases of Logistic Regression in both training and test error. Even the SVM working with a dataset with dimension m=600 gets better result.\n"
   ]
  },
  {
   "cell_type": "markdown",
   "metadata": {},
   "source": [
    "## TO DO 10\n",
    "Plot an item of clothing that is missclassified by logistic regression and correctly classified by SVM."
   ]
  },
  {
   "cell_type": "code",
   "execution_count": 19,
   "metadata": {},
   "outputs": [
    {
     "name": "stdout",
     "output_type": "stream",
     "text": [
      " index and element of the test set:5,7\n",
      " wrong prediction of the linear regeression:2\n",
      " wright prediction of the SVM: 7\n"
     ]
    }
   ],
   "source": [
    "#LR_prediction = # ADD CODE\n",
    "#SVM_prediction = # ADD CODE\n",
    "\n",
    "LR_prediction=logreg.predict(X_test)\n",
    "LR_prediction=np.asarray(LR_prediction)\n",
    "\n",
    "SVM_prediction=svc.predict(X_test)\n",
    "SVM_prediction=np.asarray(SVM_prediction)\n",
    "\n",
    "\n",
    "for i in range(np.size(SVM_prediction)):\n",
    "    if y_test[i]!=LR_prediction[i] and  y_test[i]==SVM_prediction[i]:\n",
    "        print(f' index and element of the test set:{i},{y_test[i]}')\n",
    "        print(f' wrong prediction of the linear regeression:{LR_prediction[i]}')\n",
    "        print(f' wright prediction of the SVM: {SVM_prediction[i]}')\n",
    "        break"
   ]
  },
  {
   "cell_type": "markdown",
   "metadata": {},
   "source": [
    "## TO DO 11\n",
    "Plot the confusion matrix for the SVM classifier and for logistic regression.\n",
    "The confusion matrix has one column for each predicted label and one row for each true label. \n",
    "It shows for each class in the corresponding row how many samples belonging to that class gets each possible output label.\n",
    "Notice that the diagonal contains the correctly classified samples, while the other cells correspond to errors.\n",
    "You can obtain it with the sklearn.metrics.confusion_matrix function (see the documentation).\n",
    "Try also to normalize the confusion matrix by the number of samples in each class in order to measure the accuracy on each single class.\n"
   ]
  },
  {
   "cell_type": "code",
   "execution_count": 20,
   "metadata": {},
   "outputs": [
    {
     "name": "stdout",
     "output_type": "stream",
     "text": [
      "Labels and frequencies in test set:  [5804 5813 5788 5785 5781 5786 5804 5821 5811 5807]\n",
      "\n",
      " Confusion matrix SVM  \n",
      " \n",
      " [[5383   12    5   19  118   69    6   84   70   38]\n",
      " [  15 5163   91   42  118   21  166    4   81  112]\n",
      " [   0  104 4646  151   81   69  435   24  209   69]\n",
      " [  16   69  107 5344   50   53   25   15   84   22]\n",
      " [ 150  115  107   48 5065   41   67   26   84   78]\n",
      " [  38   54  139  150   65 5148   75   13   88   16]\n",
      " [  19   92  235   33  261   20 5018   64   39   23]\n",
      " [  63   10   69   55  158   30   56 5298   52   30]\n",
      " [  24  156   44   88   23   45  183    7 5217   24]\n",
      " [  17  147  198   23  146   19   12   23   38 5184]]\n",
      "\n",
      " Confusion matrix SVM (normalized)   \n",
      " \n",
      " [[0.93 0.   0.   0.   0.02 0.01 0.   0.01 0.01 0.01]\n",
      " [0.   0.89 0.02 0.01 0.02 0.   0.03 0.   0.01 0.02]\n",
      " [0.   0.02 0.8  0.03 0.01 0.01 0.08 0.   0.04 0.01]\n",
      " [0.   0.01 0.02 0.92 0.01 0.01 0.   0.   0.01 0.  ]\n",
      " [0.03 0.02 0.02 0.01 0.88 0.01 0.01 0.   0.01 0.01]\n",
      " [0.01 0.01 0.02 0.03 0.01 0.89 0.01 0.   0.02 0.  ]\n",
      " [0.   0.02 0.04 0.01 0.04 0.   0.86 0.01 0.01 0.  ]\n",
      " [0.01 0.   0.01 0.01 0.03 0.01 0.01 0.91 0.01 0.01]\n",
      " [0.   0.03 0.01 0.02 0.   0.01 0.03 0.   0.9  0.  ]\n",
      " [0.   0.03 0.03 0.   0.03 0.   0.   0.   0.01 0.89]]\n",
      "\n",
      " diag of Confusion matrix SVM  \n",
      " \n",
      " [0.93 0.89 0.8  0.92 0.88 0.89 0.86 0.91 0.9  0.89]\n",
      "\n",
      " Confusion matrix LR  \n",
      " \n",
      " [[4913   16   18   59  237  199    7  149   76  130]\n",
      " [  23 4157  380  136  285   70  289   42  214  217]\n",
      " [   4  338 3516  180  159  233  690   74  385  209]\n",
      " [  31  135  130 4660  141  278   63   58  249   40]\n",
      " [ 195  207  268  129 4161   99  155  166  102  299]\n",
      " [ 129   92  239  376   97 4453  113   84  172   31]\n",
      " [  19  292  430   93  310  119 4191  149  145   56]\n",
      " [ 116   24  192  189  249  231  125 4380  132  183]\n",
      " [  52  296  344  120  113  157  310   27 4297   95]\n",
      " [  74  402  340   50  304  101   54  100  119 4263]]\n",
      "\n",
      " Confusion matrix LR (normalized)   \n",
      " \n",
      " [[0.85 0.   0.   0.01 0.04 0.03 0.   0.03 0.01 0.02]\n",
      " [0.   0.72 0.07 0.02 0.05 0.01 0.05 0.01 0.04 0.04]\n",
      " [0.   0.06 0.61 0.03 0.03 0.04 0.12 0.01 0.07 0.04]\n",
      " [0.01 0.02 0.02 0.81 0.02 0.05 0.01 0.01 0.04 0.01]\n",
      " [0.03 0.04 0.05 0.02 0.72 0.02 0.03 0.03 0.02 0.05]\n",
      " [0.02 0.02 0.04 0.06 0.02 0.77 0.02 0.01 0.03 0.01]\n",
      " [0.   0.05 0.07 0.02 0.05 0.02 0.72 0.03 0.02 0.01]\n",
      " [0.02 0.   0.03 0.03 0.04 0.04 0.02 0.75 0.02 0.03]\n",
      " [0.01 0.05 0.06 0.02 0.02 0.03 0.05 0.   0.74 0.02]\n",
      " [0.01 0.07 0.06 0.01 0.05 0.02 0.01 0.02 0.02 0.73]]\n",
      "\n",
      " diag of Confusion matrix LR  \n",
      " \n",
      " [0.85 0.72 0.61 0.81 0.72 0.77 0.72 0.75 0.74 0.73]\n"
     ]
    },
    {
     "name": "stderr",
     "output_type": "stream",
     "text": [
      "/Users/filippoboni/opt/anaconda3/lib/python3.8/site-packages/sklearn/utils/validation.py:70: FutureWarning: Pass labels=[0 1 2 3 4 5 6 7 8 9] as keyword args. From version 1.0 (renaming of 0.25) passing these as positional arguments will result in an error\n",
      "  warnings.warn(f\"Pass {args_msg} as keyword args. From version \"\n",
      "/Users/filippoboni/opt/anaconda3/lib/python3.8/site-packages/sklearn/utils/validation.py:70: FutureWarning: Pass labels=[0 1 2 3 4 5 6 7 8 9] as keyword args. From version 1.0 (renaming of 0.25) passing these as positional arguments will result in an error\n",
      "  warnings.warn(f\"Pass {args_msg} as keyword args. From version \"\n"
     ]
    }
   ],
   "source": [
    "from sklearn.metrics import confusion_matrix\n",
    "np.set_printoptions(precision=2, suppress=True) # for better aligned printing of confusion matrix use floatmode='fixed'\n",
    "\n",
    "u, counts = np.unique(y_test, return_counts=True)\n",
    "print(\"Labels and frequencies in test set: \", counts)\n",
    "\n",
    "y_pred=svc.predict(X_test)\n",
    "confusion_SVM = confusion_matrix(y_test, y_pred, u)\n",
    "print(\"\\n Confusion matrix SVM  \\n \\n\", confusion_SVM)\n",
    "print(\"\\n Confusion matrix SVM (normalized)   \\n \\n\", confusion_SVM /counts[:,None] )\n",
    "print(\"\\n diag of Confusion matrix SVM  \\n \\n\", np.diag(confusion_SVM /counts[:,None]))\n",
    "\n",
    "y_pred=logreg.predict(X_test)\n",
    "confusion_LR =  confusion_matrix(y_test, y_pred, u)\n",
    "print(\"\\n Confusion matrix LR  \\n \\n\", confusion_LR)\n",
    "print(\"\\n Confusion matrix LR (normalized)   \\n \\n\", confusion_LR /counts[:,None] )\n",
    "print(\"\\n diag of Confusion matrix LR  \\n \\n\", np.diag(confusion_LR /counts[:,None]))"
   ]
  },
  {
   "cell_type": "code",
   "execution_count": 21,
   "metadata": {},
   "outputs": [
    {
     "data": {
      "text/plain": [
       "<sklearn.metrics._plot.confusion_matrix.ConfusionMatrixDisplay at 0x7fa329b92130>"
      ]
     },
     "execution_count": 21,
     "metadata": {},
     "output_type": "execute_result"
    },
    {
     "data": {
      "image/png": "[encoded data removed]",
      "text/plain": [
       "<Figure size 432x288 with 2 Axes>"
      ]
     },
     "metadata": {
      "needs_background": "light"
     },
     "output_type": "display_data"
    },
    {
     "data": {
      "image/png": "[encoded data removed]",
      "text/plain": [
       "<Figure size 432x288 with 2 Axes>"
      ]
     },
     "metadata": {
      "needs_background": "light"
     },
     "output_type": "display_data"
    }
   ],
   "source": [
    "# ADD CODE TO NORMALIZE CONFUSION MATRIX AND PRINT THE NORMALIZED MATRIX\n",
    "from sklearn.metrics import plot_confusion_matrix\n",
    "plot_confusion_matrix(svc, X_test,y_test)\n",
    "plot_confusion_matrix(logreg, X_test,y_test)"
   ]
  },
  {
   "cell_type": "markdown",
   "metadata": {},
   "source": [
    "## QUESTION 4\n",
    "Have a look at the confusion matrices and comment on the obtained accuracies. Why some classes have lower accuracies and others an higher one ? Make some guesses on the possible causes.\n"
   ]
  },
  {
   "cell_type": "markdown",
   "metadata": {},
   "source": [
    "## Answer 4\n",
    "\n",
    "The initial table with the character and the confuion matrix are printed to better analyze the classes. \n",
    "\n",
    "We are going to analyze the classe with a precision of less then $0.89$.\n",
    "\n",
    "There are three kind of classes that respect this condition: the 3rd, the 5th and the 7th (this classes are numbered such that the first element of the diagonal of the matrix, representing the class 0, is represented as the 1st).\n",
    "\n",
    "The 5th one is characterized by an almost good precision, but it seems that the SVM tends to confuse it especially with the elements of the 7th, 8th and 10th classes. Probably the SVM recognizes them as similar and it is not able to differentiate the 5th class from these. Indeed the 7th class has the second worst pecision and the 10th one doesn't have a precision far from the 5th, while the 8th one has a very good precision because it is not confused with classes but the 5th.\n",
    "\n",
    "The 7th and the 3rd are often confused by the SVM as it is possible to see from the confusion matrix. Indeed the elements of the confusion matrix invoving both these two classes are the highest in their corresponding rows and columns. Probably the SVM can't define a rigid difference between this two characters, which are quite similar if we base this conclusion on how they look like in the table. The 7th one is also confused with the 5th class as shown before, while the 3rd class has errors spread among all the classes. So it is obvious that the 3rd class is the most difficult to classify because the SVM can't find strong differences with almost any of the classes of the dataset. The 7th class instead is influenced mainly by two classes: the 3rd one and the 5th one."
   ]
  },
  {
   "cell_type": "code",
   "execution_count": 22,
   "metadata": {},
   "outputs": [
    {
     "name": "stdout",
     "output_type": "stream",
     "text": [
      "\n",
      " Confusion matrix SVM (normalized)   \n",
      " \n",
      " [[0.93 0.   0.   0.   0.02 0.01 0.   0.01 0.01 0.01]\n",
      " [0.   0.89 0.02 0.01 0.02 0.   0.03 0.   0.01 0.02]\n",
      " [0.   0.02 0.8  0.03 0.01 0.01 0.08 0.   0.04 0.01]\n",
      " [0.   0.01 0.02 0.92 0.01 0.01 0.   0.   0.01 0.  ]\n",
      " [0.03 0.02 0.02 0.01 0.88 0.01 0.01 0.   0.01 0.01]\n",
      " [0.01 0.01 0.02 0.03 0.01 0.89 0.01 0.   0.02 0.  ]\n",
      " [0.   0.02 0.04 0.01 0.04 0.   0.86 0.01 0.01 0.  ]\n",
      " [0.01 0.   0.01 0.01 0.03 0.01 0.01 0.91 0.01 0.01]\n",
      " [0.   0.03 0.01 0.02 0.   0.01 0.03 0.   0.9  0.  ]\n",
      " [0.   0.03 0.03 0.   0.03 0.   0.   0.   0.01 0.89]]\n",
      "\n",
      " diag of Confusion matrix SVM  \n",
      " \n",
      " [0.93 0.89 0.8  0.92 0.88 0.89 0.86 0.91 0.9  0.89]\n"
     ]
    }
   ],
   "source": [
    "print(\"\\n Confusion matrix SVM (normalized)   \\n \\n\", confusion_SVM /counts[:,None] )\n",
    "print(\"\\n diag of Confusion matrix SVM  \\n \\n\", np.diag(confusion_SVM /counts[:,None]))"
   ]
  },
  {
   "cell_type": "markdown",
   "metadata": {},
   "source": [
    "The dataset labels are the following:\n",
    "\n",
    "| Label | Hiragana Character | Romanji (Pronunciation) |\n",
    "| :-: | :-: | :-: |\n",
    "|   0   | お | o |\n",
    "| 1 | き | ki |\n",
    "| 2 | す | su |\n",
    "| 3 | つ | tsu |\n",
    "| 4 | な | na |\n",
    "| 5 | は | ha |\n",
    "| 6 | ま | ma |\n",
    "| 7 | や | ya |\n",
    "| 8 | れ | re |\n",
    "| 9 | を | wo |"
   ]
  }
 ],
 "metadata": {
  "kernelspec": {
   "display_name": "Python 3 (ipykernel)",
   "language": "python",
   "name": "python3"
  },
  "language_info": {
   "codemirror_mode": {
    "name": "ipython",
    "version": 3
   },
   "file_extension": ".py",
   "mimetype": "text/x-python",
   "name": "python",
   "nbconvert_exporter": "python",
   "pygments_lexer": "ipython3",
   "version": "3.7.11"
  }
 },
 "nbformat": 4,
 "nbformat_minor": 4
}

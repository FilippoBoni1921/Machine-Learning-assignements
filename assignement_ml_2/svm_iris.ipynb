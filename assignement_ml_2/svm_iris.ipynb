{
 "cells": [
  {
   "cell_type": "code",
   "execution_count": 1,
   "id": "7ebdbe03",
   "metadata": {},
   "outputs": [],
   "source": [
    "#load the required packages\n",
    "\n",
    "%matplotlib inline  \n",
    "\n",
    "import numpy as np\n",
    "import scipy as sp\n",
    "import matplotlib.pyplot as plt\n",
    "\n",
    "import sklearn\n",
    "from sklearn.datasets import fetch_openml\n",
    "from sklearn.neural_network import MLPClassifier\n",
    "from sklearn.decomposition import PCA\n",
    "import sklearn.metrics as skm\n",
    "import numpy as np\n",
    "import matplotlib.pyplot as plt\n",
    "from sklearn import svm, datasets\n",
    "\n"
   ]
  },
  {
   "cell_type": "code",
   "execution_count": 2,
   "id": "e1a96cd6",
   "metadata": {},
   "outputs": [],
   "source": [
    "#fix your ID (\"numero di matricola\") and the seed for random generator (as usual you can try different seeds)\n",
    "ID = 123456789\n",
    "np.random.seed(ID)"
   ]
  },
  {
   "cell_type": "code",
   "execution_count": 3,
   "id": "7983c302",
   "metadata": {},
   "outputs": [],
   "source": [
    "# import some data to play with\n",
    "iris = datasets.load_iris()\n",
    "# Take the first two features. We could avoid this by using a two-dim dataset\n",
    "X = iris.data\n",
    "y = iris.target"
   ]
  },
  {
   "cell_type": "code",
   "execution_count": 4,
   "id": "9d2607c5",
   "metadata": {},
   "outputs": [
    {
     "name": "stdout",
     "output_type": "stream",
     "text": [
      "[5.5 2.4 3.7 1. ]\n",
      "(4,)\n",
      "(100, 4)\n",
      "Labels in training dataset:  [0 1 2]\n",
      "Frequencies in training dataset:  [36 31 33]\n"
     ]
    }
   ],
   "source": [
    "# Random permute the data and split into training and test taking the first 600\n",
    "# data samples as training and 4000 samples as test\n",
    "permutation = np.random.permutation(X.shape[0])\n",
    "\n",
    "X = X[permutation]\n",
    "y = y[permutation]\n",
    "\n",
    "m_training = 100 #small because could take time to do k-fold cv (if powerful pc use a larger number)\n",
    "m_test = 50\n",
    "\n",
    "#why m_training<m_test? #small because could take time to do k-fold cv (if powerful pc use a larger number)\n",
    "\n",
    "X_train, X_test = X[:m_training], X[m_training:m_training+m_test:]\n",
    "y_train, y_test = y[:m_training], y[m_training:m_training+m_test:]\n",
    "\n",
    "print(X_train[0])\n",
    "print(X_train[0].shape)\n",
    "print(X_train.shape)\n",
    "\n",
    "\n",
    "labels, freqs = np.unique(y_train, return_counts=True)\n",
    "print(\"Labels in training dataset: \", labels)\n",
    "print(\"Frequencies in training dataset: \", freqs)"
   ]
  },
  {
   "cell_type": "code",
   "execution_count": 5,
   "id": "bcdbde31",
   "metadata": {},
   "outputs": [
    {
     "name": "stdout",
     "output_type": "stream",
     "text": [
      "RESULTS FOR LINEAR KERNEL\n",
      "Best parameters set found:\n",
      "{'C': 1}\n",
      "Score with best parameters:\n",
      "0.98\n",
      "All scores on the grid:\n",
      "{'mean_fit_time': array([0.0011729 , 0.00068963, 0.00125825, 0.00129932]), 'std_fit_time': array([6.02278424e-04, 7.55936363e-05, 5.08448471e-04, 4.75390127e-04]), 'mean_score_time': array([0.00045919, 0.00040078, 0.00187975, 0.0006575 ]), 'std_score_time': array([1.79332854e-04, 9.17237827e-05, 2.19867746e-03, 2.20458969e-04]), 'param_C': masked_array(data=[0.01, 0.1, 1, 10],\n",
      "             mask=[False, False, False, False],\n",
      "       fill_value='?',\n",
      "            dtype=object), 'params': [{'C': 0.01}, {'C': 0.1}, {'C': 1}, {'C': 10}], 'split0_test_score': array([0.84, 0.96, 1.  , 1.  ]), 'split1_test_score': array([0.84, 0.92, 1.  , 1.  ]), 'split2_test_score': array([0.8 , 0.96, 0.96, 0.96]), 'split3_test_score': array([0.92, 0.96, 0.96, 0.96]), 'mean_test_score': array([0.85, 0.95, 0.98, 0.98]), 'std_test_score': array([0.04358899, 0.01732051, 0.02      , 0.02      ]), 'rank_test_score': array([4, 3, 1, 1], dtype=int32)}\n"
     ]
    }
   ],
   "source": [
    "#import SVC #rember use \n",
    "from sklearn.svm import SVC\n",
    "#import for Cross-Validation\n",
    "from sklearn.model_selection import GridSearchCV\n",
    "\n",
    "# parameters for linear SVM\n",
    "parameters = {'C': [0.01, 0.1, 1 , 10]}\n",
    "\n",
    "\n",
    "#train linear SVM\n",
    "\n",
    "svc = SVC(kernel='linear')\n",
    "\n",
    "\n",
    "grid = GridSearchCV(svc, parameters, cv=4)\n",
    "\n",
    "grid.fit(X_train,y_train)\n",
    "\n",
    "\n",
    "\n",
    "print ('RESULTS FOR LINEAR KERNEL')\n",
    "\n",
    "print(\"Best parameters set found:\")\n",
    "print(grid.best_params_)\n",
    "c=grid.best_params_['C']\n",
    "\n",
    "\n",
    "\n",
    "print(\"Score with best parameters:\")\n",
    "print(grid.best_score_)\n",
    "\n",
    "print(\"All scores on the grid:\")\n",
    "print(grid.cv_results_)"
   ]
  },
  {
   "cell_type": "code",
   "execution_count": 6,
   "id": "45878b69",
   "metadata": {},
   "outputs": [
    {
     "data": {
      "image/png": "[encoded data removed]",
      "text/plain": [
       "<Figure size 432x288 with 1 Axes>"
      ]
     },
     "metadata": {
      "needs_background": "light"
     },
     "output_type": "display_data"
    }
   ],
   "source": [
    "svc = SVC(C=c, kernel='linear')\n",
    "\n",
    "svc.fit(X_train[:,:2], y_train)\n",
    "\n",
    "# create a mesh to plot i\n",
    "x_min, x_max = X[:, 0].min() - 1, X[:, 0].max() + 1\n",
    "y_min, y_max = X[:, 1].min() - 1, X[:, 1].max() + 1\n",
    "h = (x_max / x_min)/100\n",
    "xx, yy = np.meshgrid(np.arange(x_min, x_max, h),\n",
    " np.arange(y_min, y_max, h))\n",
    "\n",
    "plt.subplot(1, 1, 1)\n",
    "Z = svc.predict(np.c_[xx.ravel(), yy.ravel()])\n",
    "Z = Z.reshape(xx.shape)\n",
    "plt.contourf(xx, yy, Z, cmap=plt.cm.Paired, alpha=0.8)\n",
    "\n",
    "plt.scatter(X[:, 0], X[:, 1], c=y, cmap=plt.cm.Paired)\n",
    "plt.xlabel('Sepal length')\n",
    "plt.ylabel('Sepal width')\n",
    "plt.xlim(xx.min(), xx.max())\n",
    "plt.title('SVC with linear kernel')\n",
    "plt.show()"
   ]
  },
  {
   "cell_type": "code",
   "execution_count": 7,
   "id": "590f6578",
   "metadata": {},
   "outputs": [
    {
     "name": "stdout",
     "output_type": "stream",
     "text": [
      "Labels and frequencies in test set:  [14 19 17]\n",
      "\n",
      " Confusion matrix SVM  \n",
      " \n",
      " [[14  0  0]\n",
      " [ 0 18  1]\n",
      " [ 0  0 17]]\n",
      "\n",
      " Confusion matrix SVM (normalized)   \n",
      " \n",
      " [[1.   0.   0.  ]\n",
      " [0.   0.95 0.05]\n",
      " [0.   0.   1.  ]]\n",
      "\n",
      " diag of Confusion matrix SVM  \n",
      " \n",
      " [1.   0.95 1.  ]\n"
     ]
    },
    {
     "name": "stderr",
     "output_type": "stream",
     "text": [
      "/Users/filippoboni/opt/anaconda3/lib/python3.8/site-packages/sklearn/utils/validation.py:70: FutureWarning: Pass labels=[0 1 2] as keyword args. From version 1.0 (renaming of 0.25) passing these as positional arguments will result in an error\n",
      "  warnings.warn(f\"Pass {args_msg} as keyword args. From version \"\n"
     ]
    }
   ],
   "source": [
    "svc = SVC(C=c, kernel='linear')\n",
    "\n",
    "svc.fit(X_train, y_train)\n",
    "\n",
    "\n",
    "from sklearn.metrics import confusion_matrix\n",
    "np.set_printoptions(precision=2, suppress=True) # for better aligned printing of confusion matrix use floatmode='fixed'\n",
    "\n",
    "u, counts = np.unique(y_test, return_counts=True)\n",
    "print(\"Labels and frequencies in test set: \", counts)\n",
    "\n",
    "y_pred=svc.predict(X_test)\n",
    "confusion_SVM = confusion_matrix(y_test, y_pred, u)\n",
    "print(\"\\n Confusion matrix SVM  \\n \\n\", confusion_SVM)\n",
    "print(\"\\n Confusion matrix SVM (normalized)   \\n \\n\", confusion_SVM /counts[:,None] )\n",
    "print(\"\\n diag of Confusion matrix SVM  \\n \\n\", np.diag(confusion_SVM /counts[:,None]))\n",
    "\n",
    "\n",
    "\n",
    "\n"
   ]
  },
  {
   "cell_type": "code",
   "execution_count": 8,
   "id": "0733f958",
   "metadata": {
    "scrolled": false
   },
   "outputs": [
    {
     "name": "stdout",
     "output_type": "stream",
     "text": [
      "RESULTS FOR POLYNOMIAL KERNEL OF DEGREE 2\n",
      "Best parameters set found:\n",
      "{'C': 0.01, 'gamma': 1}\n",
      "Score with best parameters:\n",
      "0.98\n",
      "All scores on the grid:\n",
      "{'mean_fit_time': array([0., 0., 0., 0., 0., 0., 0., 0., 0.]), 'std_fit_time': array([0., 0., 0., 0., 0., 0., 0., 0., 0.]), 'mean_score_time': array([0., 0., 0., 0., 0., 0., 0., 0., 0.]), 'std_score_time': array([0., 0., 0., 0., 0., 0., 0., 0., 0.]), 'param_C': masked_array(data=[0.01, 0.01, 0.01, 0.1, 0.1, 0.1, 1, 1, 1],\n",
      "             mask=[False, False, False, False, False, False, False, False,\n",
      "                   False],\n",
      "       fill_value='?',\n",
      "            dtype=object), 'param_gamma': masked_array(data=[0.01, 0.1, 1, 0.01, 0.1, 1, 0.01, 0.1, 1],\n",
      "             mask=[False, False, False, False, False, False, False, False,\n",
      "                   False],\n",
      "       fill_value='?',\n",
      "            dtype=object), 'params': [{'C': 0.01, 'gamma': 0.01}, {'C': 0.01, 'gamma': 0.1}, {'C': 0.01, 'gamma': 1}, {'C': 0.1, 'gamma': 0.01}, {'C': 0.1, 'gamma': 0.1}, {'C': 0.1, 'gamma': 1}, {'C': 1, 'gamma': 0.01}, {'C': 1, 'gamma': 0.1}, {'C': 1, 'gamma': 1}], 'split0_test_score': array([0.36, 0.88, 1.  , 0.52, 0.96, 0.96, 0.88, 1.  , 0.96]), 'split1_test_score': array([0.36, 0.8 , 1.  , 0.52, 0.92, 1.  , 0.8 , 1.  , 0.96]), 'split2_test_score': array([0.36, 0.88, 0.96, 0.6 , 0.96, 0.96, 0.88, 0.96, 1.  ]), 'split3_test_score': array([0.36, 0.88, 0.96, 0.6 , 0.96, 0.96, 0.88, 0.96, 0.96]), 'mean_test_score': array([0.36, 0.86, 0.98, 0.56, 0.95, 0.97, 0.86, 0.98, 0.97]), 'std_test_score': array([0.  , 0.03, 0.02, 0.04, 0.02, 0.02, 0.03, 0.02, 0.02]), 'rank_test_score': array([9, 6, 1, 8, 5, 3, 6, 1, 3], dtype=int32)}\n"
     ]
    }
   ],
   "source": [
    "# parameters for poly with degree 2 kernel\n",
    "parameters = {'C': [0.01, 0.1, 1],'gamma':[0.01,0.1,1]}\n",
    "\n",
    "#run SVM with poly of degree 2 kernel\n",
    "\n",
    "degree=2\n",
    "\n",
    "svc = SVC(kernel='poly', degree=2)\n",
    "\n",
    "grid = GridSearchCV(svc, parameters, cv=4)\n",
    "\n",
    "grid.fit(X_train,y_train)\n",
    "\n",
    "\n",
    "\n",
    "print (f'RESULTS FOR POLYNOMIAL KERNEL OF DEGREE {degree}')\n",
    "\n",
    "print(\"Best parameters set found:\")\n",
    "print(grid.best_params_)\n",
    "c=grid.best_params_['C']\n",
    "g=grid.best_params_['gamma']\n",
    "\n",
    "\n",
    "print(\"Score with best parameters:\")\n",
    "print(grid.best_score_)\n",
    "\n",
    "print(\"All scores on the grid:\")\n",
    "print(grid.cv_results_)"
   ]
  },
  {
   "cell_type": "code",
   "execution_count": 9,
   "id": "285be32d",
   "metadata": {},
   "outputs": [
    {
     "data": {
      "image/png": "[encoded data removed]",
      "text/plain": [
       "<Figure size 432x288 with 1 Axes>"
      ]
     },
     "metadata": {
      "needs_background": "light"
     },
     "output_type": "display_data"
    }
   ],
   "source": [
    "svc = SVC(C=c, kernel='poly', degree=2, gamma=g)\n",
    "\n",
    "svc.fit(X_train[:,:2], y_train)\n",
    "\n",
    "# create a mesh to plot i\n",
    "x_min, x_max = X[:, 0].min() - 1, X[:, 0].max() + 1\n",
    "y_min, y_max = X[:, 1].min() - 1, X[:, 1].max() + 1\n",
    "h = (x_max / x_min)/100\n",
    "xx, yy = np.meshgrid(np.arange(x_min, x_max, h),\n",
    " np.arange(y_min, y_max, h))\n",
    "\n",
    "plt.subplot(1, 1, 1)\n",
    "Z = svc.predict(np.c_[xx.ravel(), yy.ravel()])\n",
    "Z = Z.reshape(xx.shape)\n",
    "plt.contourf(xx, yy, Z, cmap=plt.cm.Paired, alpha=0.8)\n",
    "\n",
    "plt.scatter(X[:, 0], X[:, 1], c=y, cmap=plt.cm.Paired)\n",
    "plt.xlabel('Sepal length')\n",
    "plt.ylabel('Sepal width')\n",
    "plt.xlim(xx.min(), xx.max())\n",
    "plt.title('SVC with linear kernel')\n",
    "plt.show()"
   ]
  },
  {
   "cell_type": "code",
   "execution_count": 10,
   "id": "4b5609ff",
   "metadata": {},
   "outputs": [
    {
     "name": "stdout",
     "output_type": "stream",
     "text": [
      "Labels and frequencies in test set:  [14 19 17]\n",
      "\n",
      " Confusion matrix SVM  \n",
      " \n",
      " [[14  0  0]\n",
      " [ 0 18  1]\n",
      " [ 0  1 16]]\n",
      "\n",
      " Confusion matrix SVM (normalized)   \n",
      " \n",
      " [[1.   0.   0.  ]\n",
      " [0.   0.95 0.05]\n",
      " [0.   0.06 0.94]]\n",
      "\n",
      " diag of Confusion matrix SVM  \n",
      " \n",
      " [1.   0.95 0.94]\n"
     ]
    },
    {
     "name": "stderr",
     "output_type": "stream",
     "text": [
      "/Users/filippoboni/opt/anaconda3/lib/python3.8/site-packages/sklearn/utils/validation.py:70: FutureWarning: Pass labels=[0 1 2] as keyword args. From version 1.0 (renaming of 0.25) passing these as positional arguments will result in an error\n",
      "  warnings.warn(f\"Pass {args_msg} as keyword args. From version \"\n"
     ]
    }
   ],
   "source": [
    "svc = SVC(C=c, kernel='poly', degree=2, gamma=g)\n",
    "\n",
    "svc.fit(X_train, y_train)\n",
    "\n",
    "\n",
    "from sklearn.metrics import confusion_matrix\n",
    "np.set_printoptions(precision=2, suppress=True) # for better aligned printing of confusion matrix use floatmode='fixed'\n",
    "\n",
    "u, counts = np.unique(y_test, return_counts=True)\n",
    "print(\"Labels and frequencies in test set: \", counts)\n",
    "\n",
    "y_pred=svc.predict(X_test)\n",
    "confusion_SVM = confusion_matrix(y_test, y_pred, u)\n",
    "print(\"\\n Confusion matrix SVM  \\n \\n\", confusion_SVM)\n",
    "print(\"\\n Confusion matrix SVM (normalized)   \\n \\n\", confusion_SVM /counts[:,None] )\n",
    "print(\"\\n diag of Confusion matrix SVM  \\n \\n\", np.diag(confusion_SVM /counts[:,None]))\n",
    "\n",
    "\n",
    "\n"
   ]
  },
  {
   "cell_type": "code",
   "execution_count": 11,
   "id": "78f7ec5b",
   "metadata": {},
   "outputs": [
    {
     "name": "stdout",
     "output_type": "stream",
     "text": [
      "RESULTS FOR POLYNOMIAL KERNEL OF DEGREE 3\n",
      "Best parameters set found:\n",
      "{'C': 0.1, 'gamma': 0.1}\n",
      "Score with best parameters:\n",
      "0.98\n",
      "All scores on the grid:\n",
      "{'mean_fit_time': array([0., 0., 0., 0., 0., 0., 0., 0., 0.]), 'std_fit_time': array([0., 0., 0., 0., 0., 0., 0., 0., 0.]), 'mean_score_time': array([0., 0., 0., 0., 0., 0., 0., 0., 0.]), 'std_score_time': array([0., 0., 0., 0., 0., 0., 0., 0., 0.]), 'param_C': masked_array(data=[0.01, 0.01, 0.01, 0.1, 0.1, 0.1, 1, 1, 1],\n",
      "             mask=[False, False, False, False, False, False, False, False,\n",
      "                   False],\n",
      "       fill_value='?',\n",
      "            dtype=object), 'param_gamma': masked_array(data=[0.01, 0.1, 1, 0.01, 0.1, 1, 0.01, 0.1, 1],\n",
      "             mask=[False, False, False, False, False, False, False, False,\n",
      "                   False],\n",
      "       fill_value='?',\n",
      "            dtype=object), 'params': [{'C': 0.01, 'gamma': 0.01}, {'C': 0.01, 'gamma': 0.1}, {'C': 0.01, 'gamma': 1}, {'C': 0.1, 'gamma': 0.01}, {'C': 0.1, 'gamma': 0.1}, {'C': 0.1, 'gamma': 1}, {'C': 1, 'gamma': 0.01}, {'C': 1, 'gamma': 0.1}, {'C': 1, 'gamma': 1}], 'split0_test_score': array([0.36, 0.96, 0.96, 0.56, 1.  , 0.96, 0.88, 0.96, 0.96]), 'split1_test_score': array([0.36, 0.92, 0.96, 0.56, 1.  , 0.96, 0.8 , 0.96, 1.  ]), 'split2_test_score': array([0.36, 0.96, 0.96, 0.64, 0.96, 0.96, 0.96, 0.96, 0.96]), 'split3_test_score': array([0.36, 1.  , 0.96, 0.6 , 0.96, 0.96, 0.88, 0.96, 0.96]), 'mean_test_score': array([0.36, 0.96, 0.96, 0.59, 0.98, 0.96, 0.88, 0.96, 0.97]), 'std_test_score': array([0.  , 0.03, 0.  , 0.03, 0.02, 0.  , 0.06, 0.  , 0.02]), 'rank_test_score': array([9, 3, 3, 8, 1, 3, 7, 3, 2], dtype=int32)}\n"
     ]
    }
   ],
   "source": [
    "# parameters for poly with degree 2 kernel\n",
    "parameters = {'C': [0.01, 0.1, 1],'gamma':[0.01,0.1,1]}\n",
    "\n",
    "#run SVM with poly of degree 2 kernel\n",
    "\n",
    "degree=3\n",
    "\n",
    "svc = SVC(kernel='poly', degree=3)\n",
    "\n",
    "grid = GridSearchCV(svc, parameters, cv=4)\n",
    "\n",
    "grid.fit(X_train,y_train)\n",
    "\n",
    "\n",
    "\n",
    "print (f'RESULTS FOR POLYNOMIAL KERNEL OF DEGREE {degree}')\n",
    "\n",
    "print(\"Best parameters set found:\")\n",
    "print(grid.best_params_)\n",
    "c=grid.best_params_['C']\n",
    "g=grid.best_params_['gamma']\n",
    "\n",
    "\n",
    "print(\"Score with best parameters:\")\n",
    "print(grid.best_score_)\n",
    "\n",
    "print(\"All scores on the grid:\")\n",
    "print(grid.cv_results_)"
   ]
  },
  {
   "cell_type": "code",
   "execution_count": 12,
   "id": "2b7c537d",
   "metadata": {},
   "outputs": [
    {
     "data": {
      "image/png": "[encoded data removed]",
      "text/plain": [
       "<Figure size 432x288 with 1 Axes>"
      ]
     },
     "metadata": {
      "needs_background": "light"
     },
     "output_type": "display_data"
    }
   ],
   "source": [
    "svc = SVC(C=c, kernel='poly', degree=3, gamma=g)\n",
    "\n",
    "svc.fit(X_train[:,:2], y_train)\n",
    "\n",
    "# create a mesh to plot i\n",
    "x_min, x_max = X[:, 0].min() - 1, X[:, 0].max() + 1\n",
    "y_min, y_max = X[:, 1].min() - 1, X[:, 1].max() + 1\n",
    "h = (x_max / x_min)/100\n",
    "xx, yy = np.meshgrid(np.arange(x_min, x_max, h),\n",
    " np.arange(y_min, y_max, h))\n",
    "\n",
    "plt.subplot(1, 1, 1)\n",
    "Z = svc.predict(np.c_[xx.ravel(), yy.ravel()])\n",
    "Z = Z.reshape(xx.shape)\n",
    "plt.contourf(xx, yy, Z, cmap=plt.cm.Paired, alpha=0.8)\n",
    "\n",
    "plt.scatter(X[:, 0], X[:, 1], c=y, cmap=plt.cm.Paired)\n",
    "plt.xlabel('Sepal length')\n",
    "plt.ylabel('Sepal width')\n",
    "plt.xlim(xx.min(), xx.max())\n",
    "plt.title('SVC with linear kernel')\n",
    "plt.show()"
   ]
  },
  {
   "cell_type": "code",
   "execution_count": 13,
   "id": "03e3ae12",
   "metadata": {},
   "outputs": [
    {
     "name": "stdout",
     "output_type": "stream",
     "text": [
      "Labels and frequencies in test set:  [14 19 17]\n",
      "\n",
      " Confusion matrix SVM  \n",
      " \n",
      " [[14  0  0]\n",
      " [ 0 18  1]\n",
      " [ 0  2 15]]\n",
      "\n",
      " Confusion matrix SVM (normalized)   \n",
      " \n",
      " [[1.   0.   0.  ]\n",
      " [0.   0.95 0.05]\n",
      " [0.   0.12 0.88]]\n",
      "\n",
      " diag of Confusion matrix SVM  \n",
      " \n",
      " [1.   0.95 0.88]\n"
     ]
    },
    {
     "name": "stderr",
     "output_type": "stream",
     "text": [
      "/Users/filippoboni/opt/anaconda3/lib/python3.8/site-packages/sklearn/utils/validation.py:70: FutureWarning: Pass labels=[0 1 2] as keyword args. From version 1.0 (renaming of 0.25) passing these as positional arguments will result in an error\n",
      "  warnings.warn(f\"Pass {args_msg} as keyword args. From version \"\n"
     ]
    }
   ],
   "source": [
    "svc = SVC(C=c, kernel='poly', degree=3, gamma=g)\n",
    "\n",
    "svc.fit(X_train, y_train)\n",
    "\n",
    "\n",
    "from sklearn.metrics import confusion_matrix\n",
    "np.set_printoptions(precision=2, suppress=True) # for better aligned printing of confusion matrix use floatmode='fixed'\n",
    "\n",
    "u, counts = np.unique(y_test, return_counts=True)\n",
    "print(\"Labels and frequencies in test set: \", counts)\n",
    "\n",
    "y_pred=svc.predict(X_test)\n",
    "confusion_SVM = confusion_matrix(y_test, y_pred, u)\n",
    "print(\"\\n Confusion matrix SVM  \\n \\n\", confusion_SVM)\n",
    "print(\"\\n Confusion matrix SVM (normalized)   \\n \\n\", confusion_SVM /counts[:,None] )\n",
    "print(\"\\n diag of Confusion matrix SVM  \\n \\n\", np.diag(confusion_SVM /counts[:,None]))\n",
    "\n",
    "\n"
   ]
  },
  {
   "cell_type": "code",
   "execution_count": 14,
   "id": "5f6b15a5",
   "metadata": {},
   "outputs": [
    {
     "name": "stdout",
     "output_type": "stream",
     "text": [
      "RESULTS FOR POLYNOMIAL KERNEL OF DEGREE 0\n",
      "Best parameters set found:\n",
      "{'C': 1, 'gamma': 1}\n",
      "Score with best parameters:\n",
      "0.97\n",
      "All scores on the grid:\n",
      "{'mean_fit_time': array([0., 0., 0., 0., 0., 0., 0., 0., 0.]), 'std_fit_time': array([0., 0., 0., 0., 0., 0., 0., 0., 0.]), 'mean_score_time': array([0., 0., 0., 0., 0., 0., 0., 0., 0.]), 'std_score_time': array([0., 0., 0., 0., 0., 0., 0., 0., 0.]), 'param_C': masked_array(data=[0.01, 0.01, 0.01, 0.1, 0.1, 0.1, 1, 1, 1],\n",
      "             mask=[False, False, False, False, False, False, False, False,\n",
      "                   False],\n",
      "       fill_value='?',\n",
      "            dtype=object), 'param_gamma': masked_array(data=[0.01, 0.1, 1, 0.01, 0.1, 1, 0.01, 0.1, 1],\n",
      "             mask=[False, False, False, False, False, False, False, False,\n",
      "                   False],\n",
      "       fill_value='?',\n",
      "            dtype=object), 'params': [{'C': 0.01, 'gamma': 0.01}, {'C': 0.01, 'gamma': 0.1}, {'C': 0.01, 'gamma': 1}, {'C': 0.1, 'gamma': 0.01}, {'C': 0.1, 'gamma': 0.1}, {'C': 0.1, 'gamma': 1}, {'C': 1, 'gamma': 0.01}, {'C': 1, 'gamma': 0.1}, {'C': 1, 'gamma': 1}], 'split0_test_score': array([0.36, 0.36, 0.36, 0.52, 0.84, 0.92, 0.92, 0.92, 1.  ]), 'split1_test_score': array([0.36, 0.36, 0.36, 0.56, 0.92, 0.92, 0.96, 0.96, 0.96]), 'split2_test_score': array([0.36, 0.36, 0.36, 0.64, 0.8 , 0.96, 0.96, 0.96, 0.96]), 'split3_test_score': array([0.36, 0.36, 0.36, 0.6 , 0.92, 0.96, 0.96, 0.96, 0.96]), 'mean_test_score': array([0.36, 0.36, 0.36, 0.58, 0.87, 0.94, 0.95, 0.95, 0.97]), 'std_test_score': array([0.  , 0.  , 0.  , 0.04, 0.05, 0.02, 0.02, 0.02, 0.02]), 'rank_test_score': array([7, 7, 7, 6, 5, 4, 2, 2, 1], dtype=int32)}\n"
     ]
    }
   ],
   "source": [
    "# parameters for poly with degree 2 kernel\n",
    "parameters = {'C': [0.01, 0.1, 1],'gamma':[0.01,0.1,1]}\n",
    "\n",
    "#run SVM with poly of degree 2 kernel\n",
    "\n",
    "degree=0\n",
    "\n",
    "svc = SVC(kernel='rbf')\n",
    "\n",
    "grid = GridSearchCV(svc, parameters, cv=4)\n",
    "\n",
    "grid.fit(X_train,y_train)\n",
    "\n",
    "\n",
    "\n",
    "print (f'RESULTS FOR POLYNOMIAL KERNEL OF DEGREE {degree}')\n",
    "\n",
    "print(\"Best parameters set found:\")\n",
    "print(grid.best_params_)\n",
    "c=grid.best_params_['C']\n",
    "g=grid.best_params_['gamma']\n",
    "\n",
    "\n",
    "print(\"Score with best parameters:\")\n",
    "print(grid.best_score_)\n",
    "\n",
    "print(\"All scores on the grid:\")\n",
    "print(grid.cv_results_)"
   ]
  },
  {
   "cell_type": "code",
   "execution_count": 15,
   "id": "4dcb7896",
   "metadata": {},
   "outputs": [
    {
     "data": {
      "image/png": "[encoded data removed]",
      "text/plain": [
       "<Figure size 432x288 with 1 Axes>"
      ]
     },
     "metadata": {
      "needs_background": "light"
     },
     "output_type": "display_data"
    }
   ],
   "source": [
    "svc = SVC(C=c, kernel='rbf', gamma=g)\n",
    "\n",
    "svc.fit(X_train[:,:2], y_train)\n",
    "\n",
    "# create a mesh to plot i\n",
    "x_min, x_max = X[:, 0].min() - 1, X[:, 0].max() + 1\n",
    "y_min, y_max = X[:, 1].min() - 1, X[:, 1].max() + 1\n",
    "h = (x_max / x_min)/100\n",
    "xx, yy = np.meshgrid(np.arange(x_min, x_max, h),\n",
    " np.arange(y_min, y_max, h))\n",
    "\n",
    "plt.subplot(1, 1, 1)\n",
    "Z = svc.predict(np.c_[xx.ravel(), yy.ravel()])\n",
    "Z = Z.reshape(xx.shape)\n",
    "plt.contourf(xx, yy, Z, cmap=plt.cm.Paired, alpha=0.8)\n",
    "\n",
    "plt.scatter(X[:, 0], X[:, 1], c=y, cmap=plt.cm.Paired)\n",
    "plt.xlabel('Sepal length')\n",
    "plt.ylabel('Sepal width')\n",
    "plt.xlim(xx.min(), xx.max())\n",
    "plt.title('SVC with linear kernel')\n",
    "plt.show()"
   ]
  },
  {
   "cell_type": "code",
   "execution_count": 16,
   "id": "0f02dc7d",
   "metadata": {},
   "outputs": [
    {
     "name": "stdout",
     "output_type": "stream",
     "text": [
      "Labels and frequencies in test set:  [14 19 17]\n",
      "\n",
      " Confusion matrix SVM  \n",
      " \n",
      " [[14  0  0]\n",
      " [ 0 18  1]\n",
      " [ 0  2 15]]\n",
      "\n",
      " Confusion matrix SVM (normalized)   \n",
      " \n",
      " [[1.   0.   0.  ]\n",
      " [0.   0.95 0.05]\n",
      " [0.   0.12 0.88]]\n",
      "\n",
      " diag of Confusion matrix SVM  \n",
      " \n",
      " [1.   0.95 0.88]\n"
     ]
    },
    {
     "name": "stderr",
     "output_type": "stream",
     "text": [
      "/Users/filippoboni/opt/anaconda3/lib/python3.8/site-packages/sklearn/utils/validation.py:70: FutureWarning: Pass labels=[0 1 2] as keyword args. From version 1.0 (renaming of 0.25) passing these as positional arguments will result in an error\n",
      "  warnings.warn(f\"Pass {args_msg} as keyword args. From version \"\n"
     ]
    }
   ],
   "source": [
    "svc = SVC(C=c, kernel='rbf', gamma=g)\n",
    "\n",
    "svc.fit(X_train, y_train)\n",
    "\n",
    "from sklearn.metrics import confusion_matrix\n",
    "np.set_printoptions(precision=2, suppress=True) # for better aligned printing of confusion matrix use floatmode='fixed'\n",
    "\n",
    "u, counts = np.unique(y_test, return_counts=True)\n",
    "print(\"Labels and frequencies in test set: \", counts)\n",
    "\n",
    "y_pred=svc.predict(X_test)\n",
    "confusion_SVM = confusion_matrix(y_test, y_pred, u)\n",
    "print(\"\\n Confusion matrix SVM  \\n \\n\", confusion_SVM)\n",
    "print(\"\\n Confusion matrix SVM (normalized)   \\n \\n\", confusion_SVM /counts[:,None] )\n",
    "print(\"\\n diag of Confusion matrix SVM  \\n \\n\", np.diag(confusion_SVM /counts[:,None]))\n",
    "\n"
   ]
  }
 ],
 "metadata": {
  "kernelspec": {
   "display_name": "Python 3",
   "language": "python",
   "name": "python3"
  },
  "language_info": {
   "codemirror_mode": {
    "name": "ipython",
    "version": 3
   },
   "file_extension": ".py",
   "mimetype": "text/x-python",
   "name": "python",
   "nbconvert_exporter": "python",
   "pygments_lexer": "ipython3",
   "version": "3.8.8"
  }
 },
 "nbformat": 4,
 "nbformat_minor": 5
}

{
 "cells": [
  {
   "cell_type": "markdown",
   "metadata": {},
   "source": [
    "# Characters Classification with Neural Networks\n",
    "\n",
    "In this notebook we are going to use the Neural Networks for image classification. We are going to use the same dataset of the lab on SVM: Kuzushiji-MNIST or K-MNIST for short (https://github.com/rois-codh/kmnist) a dataset of traditional japanese handwritten kana.\n",
    "\n",
    "The dataset labels are the following:\n",
    "\n",
    "| Label | Hiragana Character | Romanji (Pronunciation) |\n",
    "| :-: | :-: | :-: |\n",
    "|   0   | お | o |\n",
    "| 1 | き | ki |\n",
    "| 2 | す | su |\n",
    "| 3 | つ | tsu |\n",
    "| 4 | な | na |\n",
    "| 5 | は | ha |\n",
    "| 6 | ま | ma |\n",
    "| 7 | や | ya |\n",
    "| 8 | れ | re |\n",
    "| 9 | を | wo |"
   ]
  },
  {
   "cell_type": "code",
   "execution_count": 1,
   "metadata": {},
   "outputs": [
    {
     "name": "stdout",
     "output_type": "stream",
     "text": [
      "scikit-learn version:  0.24.2\n"
     ]
    }
   ],
   "source": [
    "#load the required packages and check Scikit-learn version\n",
    "\n",
    "%matplotlib inline  \n",
    "\n",
    "import numpy as np\n",
    "import scipy as sp\n",
    "import matplotlib.pyplot as plt\n",
    "\n",
    "import sklearn\n",
    "print ('scikit-learn version: ', sklearn.__version__)\n",
    "from sklearn.neural_network import MLPClassifier\n",
    "from sklearn.model_selection import GridSearchCV\n",
    "from sklearn.svm import SVC"
   ]
  },
  {
   "cell_type": "code",
   "execution_count": 2,
   "metadata": {},
   "outputs": [],
   "source": [
    "# helper function to load KMNIST dataset from disk\n",
    "def load_mnist(path, kind='train'):\n",
    "    import os\n",
    "    import gzip\n",
    "    import numpy as np\n",
    "    labels_path = os.path.join(path, 'K%s-labels-idx1-ubyte.gz' % kind)\n",
    "    images_path = os.path.join(path, 'K%s-images-idx3-ubyte.gz' % kind)\n",
    "    with gzip.open(labels_path, 'rb') as lbpath:\n",
    "        labels = np.frombuffer(lbpath.read(), dtype=np.uint8,offset=8)\n",
    "    with gzip.open(images_path, 'rb') as imgpath:\n",
    "        images = np.frombuffer(imgpath.read(), dtype=np.uint8,offset=16).reshape(len(labels), 784)\n",
    "    return images, labels"
   ]
  },
  {
   "cell_type": "markdown",
   "metadata": {},
   "source": [
    "# TODO \n",
    "Set as seed for the random generator your Student ID (you can use your \"numero di matricola\"). Try to change the seed to see the impact of the randomization."
   ]
  },
  {
   "cell_type": "code",
   "execution_count": 3,
   "metadata": {},
   "outputs": [],
   "source": [
    "ID = 123456789\n",
    "np.random.seed(ID)"
   ]
  },
  {
   "cell_type": "code",
   "execution_count": 4,
   "metadata": {},
   "outputs": [
    {
     "name": "stdout",
     "output_type": "stream",
     "text": [
      "Number of samples in the K-MNIST dataset: 60000\n"
     ]
    }
   ],
   "source": [
    "#load the MNIST dataset and let's normalize the features so that each value is in [0,1]\n",
    "X, y = load_mnist(\"data\")\n",
    "print(\"Number of samples in the K-MNIST dataset:\", X.shape[0])\n",
    "# rescale the data\n",
    "X = X / 255.0"
   ]
  },
  {
   "cell_type": "markdown",
   "metadata": {},
   "source": [
    "Now split into training and test. We start with a small training set of 600 samples to reduce computation time while 4000 samples will be used for testing. Make sure that each label is present at least 10 times in train and test set frequencies."
   ]
  },
  {
   "cell_type": "code",
   "execution_count": 5,
   "metadata": {},
   "outputs": [
    {
     "name": "stdout",
     "output_type": "stream",
     "text": [
      "Labels in training dataset:  [0 1 2 3 4 5 6 7 8 9]\n",
      "Frequencies in training dataset:  [59 59 67 63 54 62 49 62 72 53]\n",
      "Labels in test set:  [0 1 2 3 4 5 6 7 8 9]\n",
      "Frequencies in test set:  [59 59 67 63 54 62 49 62 72 53]\n"
     ]
    }
   ],
   "source": [
    "#random permute the data and split into training and test taking the first 600\n",
    "#data samples as training and 4000 as test set\n",
    "permutation = np.random.permutation(X.shape[0])\n",
    "\n",
    "X = X[permutation]\n",
    "y = y[permutation]\n",
    "\n",
    "m_training = 600\n",
    "m_test = 4000\n",
    "\n",
    "X_train, X_test = X[:m_training], X[m_training:m_training+m_test]\n",
    "y_train, y_test = y[:m_training], y[m_training:m_training+m_test]\n",
    "\n",
    "labels, freqs = np.unique(y_train, return_counts=True)\n",
    "print(\"Labels in training dataset: \", labels)\n",
    "print(\"Frequencies in training dataset: \", freqs)\n",
    "\n",
    "labelsT, freqsT = np.unique(y_test, return_counts=True)\n",
    "print(\"Labels in test set: \", labels)\n",
    "print(\"Frequencies in test set: \", freqs)\n"
   ]
  },
  {
   "cell_type": "code",
   "execution_count": 6,
   "metadata": {},
   "outputs": [
    {
     "name": "stdout",
     "output_type": "stream",
     "text": [
      "[0.         0.         0.         0.         0.         0.\n",
      " 0.         0.         0.         0.         0.         0.\n",
      " 0.         0.         0.         0.         0.         0.\n",
      " 0.         0.         0.         0.         0.         0.\n",
      " 0.         0.         0.         0.         0.         0.\n",
      " 0.         0.         0.         0.         0.         0.\n",
      " 0.         0.         0.         0.         0.         0.\n",
      " 0.         0.         0.         0.         0.         0.\n",
      " 0.         0.         0.         0.         0.         0.\n",
      " 0.         0.         0.         0.         0.         0.\n",
      " 0.         0.         0.         0.         0.         0.\n",
      " 0.         0.         0.         0.         0.         0.\n",
      " 0.         0.         0.         0.         0.         0.\n",
      " 0.         0.         0.         0.         0.         0.\n",
      " 0.         0.         0.         0.         0.         0.\n",
      " 0.         0.         0.         0.         0.         0.\n",
      " 0.         0.         0.         0.         0.         0.\n",
      " 0.         0.         0.         0.         0.         0.\n",
      " 0.         0.         0.         0.         0.         0.\n",
      " 0.         0.         0.         0.         0.         0.\n",
      " 0.         0.         0.         0.         0.         0.\n",
      " 0.         0.         0.         0.         0.         0.\n",
      " 0.         0.         0.         0.         0.         0.\n",
      " 0.         0.         0.         0.         0.         0.\n",
      " 0.         0.         0.         0.         0.         0.\n",
      " 0.         0.         0.         0.         0.         0.\n",
      " 0.         0.         0.         0.         0.         0.\n",
      " 0.         0.         0.         0.         0.         0.\n",
      " 0.         0.         0.         0.         0.         0.\n",
      " 0.01960784 0.25490196 0.51372549 0.54117647 0.62745098 0.6627451\n",
      " 0.47843137 0.0627451  0.         0.         0.00784314 0.00784314\n",
      " 0.         0.         0.         0.         0.00392157 0.\n",
      " 0.         0.         0.         0.         0.         0.\n",
      " 0.         0.         0.         0.         0.44313725 0.97647059\n",
      " 1.         1.         1.         1.         1.         0.79215686\n",
      " 0.27843137 0.28235294 0.56470588 0.70196078 0.5372549  0.37647059\n",
      " 0.13333333 0.01960784 0.         0.         0.         0.\n",
      " 0.         0.         0.07843137 0.30588235 0.20392157 0.05490196\n",
      " 0.02745098 0.13333333 0.92156863 1.         1.         1.\n",
      " 1.         1.         1.         1.         1.         1.\n",
      " 1.         1.         1.         1.         0.95686275 0.82745098\n",
      " 0.54901961 0.26666667 0.07843137 0.         0.         0.\n",
      " 0.49803922 0.99215686 0.97647059 0.91764706 0.82352941 0.87843137\n",
      " 1.         1.         1.         1.         1.         0.98431373\n",
      " 0.9372549  0.90588235 0.94117647 0.85490196 0.87058824 0.94117647\n",
      " 0.9372549  0.93333333 0.95294118 0.98039216 1.         1.\n",
      " 0.88627451 0.39607843 0.02745098 0.         0.25882353 0.98431373\n",
      " 1.         1.         1.         1.         1.         1.\n",
      " 1.         0.91372549 0.43921569 0.22352941 0.10588235 0.05490196\n",
      " 0.11372549 0.02745098 0.03529412 0.06666667 0.0627451  0.0627451\n",
      " 0.09803922 0.22745098 0.4745098  0.94509804 1.         0.97647059\n",
      " 0.40392157 0.00784314 0.         0.55294118 1.         1.\n",
      " 1.         1.         1.         1.         1.         0.80784314\n",
      " 0.0745098  0.         0.         0.         0.         0.\n",
      " 0.         0.         0.         0.         0.         0.\n",
      " 0.00392157 0.19607843 0.85490196 1.         0.98431373 0.40392157\n",
      " 0.         0.05882353 0.76862745 1.         1.         1.\n",
      " 1.         1.         1.         1.         0.81960784 0.11372549\n",
      " 0.         0.         0.         0.         0.         0.\n",
      " 0.         0.         0.         0.         0.         0.02352941\n",
      " 0.62745098 1.         1.         0.85882353 0.         0.\n",
      " 0.12941176 0.90196078 1.         1.         0.88627451 0.42352941\n",
      " 0.61176471 0.99607843 0.99607843 0.84705882 0.16078431 0.\n",
      " 0.         0.         0.         0.         0.         0.\n",
      " 0.         0.         0.02745098 0.43529412 0.98431373 1.\n",
      " 1.         0.87058824 0.         0.         0.         0.22352941\n",
      " 0.79607843 0.76862745 0.17647059 0.         0.05098039 0.46666667\n",
      " 0.97647059 1.         0.88627451 0.19607843 0.         0.\n",
      " 0.         0.         0.         0.01568627 0.16078431 0.41568627\n",
      " 0.85490196 1.         1.         1.         0.97254902 0.58823529\n",
      " 0.         0.         0.         0.         0.00784314 0.00392157\n",
      " 0.         0.         0.         0.00392157 0.43529412 0.98431373\n",
      " 1.         0.89019608 0.47058824 0.56078431 0.59607843 0.51764706\n",
      " 0.67843137 0.87843137 0.98823529 1.         1.         1.\n",
      " 1.         0.98431373 0.54509804 0.14117647 0.         0.\n",
      " 0.         0.         0.         0.         0.         0.\n",
      " 0.         0.         0.00784314 0.43921569 0.98823529 1.\n",
      " 1.         1.         1.         1.         0.99607843 1.\n",
      " 0.96470588 0.91764706 0.90980392 0.80784314 0.54117647 0.2627451\n",
      " 0.05098039 0.01960784 0.         0.         0.         0.\n",
      " 0.         0.         0.         0.         0.         0.\n",
      " 0.         0.01568627 0.57647059 0.99607843 1.         1.\n",
      " 1.         0.72941176 0.21568627 0.20784314 0.14117647 0.20784314\n",
      " 0.32941176 0.05098039 0.         0.         0.         0.00784314\n",
      " 0.         0.         0.         0.         0.         0.\n",
      " 0.         0.         0.         0.         0.         0.\n",
      " 0.02745098 0.6627451  1.         1.         1.         0.27058824\n",
      " 0.         0.         0.         0.04313725 0.18039216 0.\n",
      " 0.         0.         0.         0.         0.         0.\n",
      " 0.         0.         0.         0.         0.         0.\n",
      " 0.         0.         0.         0.         0.         0.13333333\n",
      " 0.96470588 1.         1.         0.51764706 0.         0.02745098\n",
      " 0.         0.         0.         0.         0.         0.\n",
      " 0.         0.         0.         0.         0.         0.\n",
      " 0.         0.         0.         0.         0.         0.\n",
      " 0.         0.         0.         0.         0.4745098  1.\n",
      " 1.         0.56078431 0.         0.00392157 0.         0.\n",
      " 0.         0.         0.         0.         0.         0.\n",
      " 0.         0.         0.         0.         0.         0.\n",
      " 0.         0.         0.         0.         0.         0.\n",
      " 0.         0.00392157 0.21568627 0.63529412 0.63529412 0.2627451\n",
      " 0.         0.         0.00784314 0.         0.         0.\n",
      " 0.         0.         0.         0.         0.         0.\n",
      " 0.         0.         0.         0.         0.         0.\n",
      " 0.         0.         0.         0.         0.         0.\n",
      " 0.         0.         0.         0.         0.         0.\n",
      " 0.         0.         0.         0.         0.         0.\n",
      " 0.         0.         0.         0.         0.         0.\n",
      " 0.         0.         0.         0.         0.         0.\n",
      " 0.         0.         0.         0.         0.         0.\n",
      " 0.         0.         0.         0.         0.         0.\n",
      " 0.         0.         0.         0.         0.         0.\n",
      " 0.         0.         0.         0.         0.         0.\n",
      " 0.         0.         0.         0.         0.         0.\n",
      " 0.         0.         0.         0.         0.         0.\n",
      " 0.         0.         0.         0.         0.         0.\n",
      " 0.         0.         0.         0.         0.         0.\n",
      " 0.         0.         0.         0.         0.         0.\n",
      " 0.         0.         0.         0.         0.         0.\n",
      " 0.         0.         0.         0.         0.         0.\n",
      " 0.         0.         0.         0.         0.         0.\n",
      " 0.         0.         0.         0.         0.         0.\n",
      " 0.         0.         0.         0.         0.         0.\n",
      " 0.         0.         0.         0.         0.         0.\n",
      " 0.         0.         0.         0.         0.         0.\n",
      " 0.         0.         0.         0.         0.         0.\n",
      " 0.         0.         0.         0.         0.         0.\n",
      " 0.         0.         0.         0.         0.         0.\n",
      " 0.         0.         0.         0.         0.         0.\n",
      " 0.         0.         0.         0.         0.         0.\n",
      " 0.         0.         0.         0.        ]\n",
      "\n",
      "\n",
      "\n",
      "\n",
      "[0.         0.         0.         0.         0.         0.\n",
      " 0.         0.         0.12156863 0.49411765 0.82352941 1.\n",
      " 0.69803922 0.41176471 0.03529412 0.         0.         0.\n",
      " 0.         0.         0.         0.         0.         0.\n",
      " 0.         0.         0.         0.         0.         0.\n",
      " 0.         0.         0.         0.         0.         0.03137255\n",
      " 0.62352941 0.98431373 0.8627451  0.9372549  1.         1.\n",
      " 0.3254902  0.         0.         0.         0.         0.\n",
      " 0.         0.         0.         0.         0.         0.\n",
      " 0.         0.         0.         0.         0.         0.\n",
      " 0.         0.         0.         0.36862745 0.98823529 0.82352941\n",
      " 0.09019608 0.18431373 0.95686275 0.98823529 0.79607843 0.60784314\n",
      " 0.69803922 0.22352941 0.         0.         0.         0.\n",
      " 0.         0.         0.         0.         0.         0.\n",
      " 0.         0.         0.         0.         0.         0.\n",
      " 0.         0.67843137 1.         0.96078431 0.8        0.84705882\n",
      " 0.99607843 1.         1.         1.         1.         0.38823529\n",
      " 0.         0.         0.         0.         0.         0.\n",
      " 0.         0.         0.         0.         0.         0.\n",
      " 0.         0.         0.         0.         0.         0.70588235\n",
      " 1.         1.         1.         1.         1.         1.\n",
      " 0.99607843 0.71764706 0.4        0.04705882 0.         0.\n",
      " 0.         0.         0.         0.         0.         0.\n",
      " 0.         0.         0.         0.         0.         0.\n",
      " 0.         0.         0.         0.14117647 0.34509804 0.4\n",
      " 0.50588235 0.52156863 0.93333333 0.98823529 0.94117647 0.0745098\n",
      " 0.         0.         0.         0.         0.         0.\n",
      " 0.         0.         0.         0.         0.         0.\n",
      " 0.         0.         0.         0.         0.         0.\n",
      " 0.         0.         0.         0.         0.         0.\n",
      " 0.63137255 1.         0.97647059 0.16862745 0.         0.\n",
      " 0.         0.         0.         0.         0.         0.\n",
      " 0.         0.         0.         0.         0.         0.\n",
      " 0.         0.         0.         0.         0.         0.\n",
      " 0.         0.01176471 0.00784314 0.00392157 0.67058824 1.\n",
      " 0.98431373 0.16078431 0.         0.         0.         0.\n",
      " 0.         0.         0.         0.         0.         0.\n",
      " 0.         0.         0.         0.         0.         0.\n",
      " 0.         0.         0.         0.         0.00784314 0.63529412\n",
      " 0.74509804 0.57254902 0.9254902  1.         0.99607843 0.21960784\n",
      " 0.         0.         0.         0.         0.         0.\n",
      " 0.         0.         0.         0.         0.         0.\n",
      " 0.         0.         0.         0.         0.         0.\n",
      " 0.         0.         0.34901961 0.96862745 1.         1.\n",
      " 0.99607843 1.         0.77647059 0.02745098 0.         0.\n",
      " 0.         0.         0.         0.         0.         0.\n",
      " 0.         0.         0.         0.         0.         0.\n",
      " 0.         0.         0.         0.         0.         0.00784314\n",
      " 0.73333333 0.65490196 0.76078431 0.89019608 0.98823529 0.99215686\n",
      " 0.23921569 0.         0.         0.01176471 0.08627451 0.01176471\n",
      " 0.         0.         0.         0.         0.         0.\n",
      " 0.         0.         0.         0.         0.         0.\n",
      " 0.         0.         0.         0.05490196 0.83137255 0.05490196\n",
      " 0.         0.02745098 0.18823529 0.17647059 0.00784314 0.21176471\n",
      " 0.34117647 0.67058824 0.96470588 0.60392157 0.22352941 0.00784314\n",
      " 0.         0.         0.         0.         0.         0.\n",
      " 0.         0.         0.         0.         0.         0.\n",
      " 0.         0.08235294 0.67843137 0.01176471 0.         0.\n",
      " 0.04313725 0.01960784 0.15686275 0.9254902  0.99607843 0.99215686\n",
      " 0.99607843 0.99607843 0.96078431 0.23921569 0.         0.\n",
      " 0.         0.         0.         0.         0.         0.\n",
      " 0.         0.         0.         0.         0.         0.32156863\n",
      " 0.69019608 0.02745098 0.01176471 0.49803922 0.87058824 0.79215686\n",
      " 0.90588235 1.         1.         1.         1.         1.\n",
      " 0.95686275 0.15686275 0.         0.         0.         0.\n",
      " 0.         0.         0.         0.         0.         0.\n",
      " 0.         0.         0.         0.62745098 0.99607843 0.58431373\n",
      " 0.3372549  0.78431373 1.         1.         1.         1.\n",
      " 1.         1.         0.48627451 0.49019608 0.21568627 0.\n",
      " 0.         0.         0.         0.         0.         0.\n",
      " 0.         0.         0.         0.         0.         0.\n",
      " 0.02745098 0.77254902 0.88235294 0.9254902  0.94901961 1.\n",
      " 1.         1.         1.         0.80392157 0.4627451  0.40784314\n",
      " 0.03137255 0.         0.         0.         0.         0.\n",
      " 0.         0.         0.         0.         0.         0.\n",
      " 0.         0.         0.         0.         0.02352941 0.81568627\n",
      " 0.97254902 0.96862745 0.89411765 1.         1.         1.\n",
      " 0.99215686 0.33333333 0.         0.         0.         0.\n",
      " 0.         0.         0.         0.         0.         0.\n",
      " 0.         0.         0.         0.         0.         0.\n",
      " 0.         0.         0.         0.5254902  0.95686275 1.\n",
      " 0.99607843 1.         1.         0.91764706 0.34901961 0.00784314\n",
      " 0.         0.         0.         0.         0.         0.\n",
      " 0.         0.         0.         0.         0.         0.\n",
      " 0.         0.         0.         0.         0.         0.\n",
      " 0.         0.01960784 0.1254902  0.90196078 1.         0.90980392\n",
      " 0.31764706 0.08627451 0.         0.         0.         0.\n",
      " 0.         0.         0.         0.         0.         0.\n",
      " 0.         0.         0.         0.         0.         0.\n",
      " 0.         0.         0.         0.         0.         0.\n",
      " 0.         0.74901961 1.         0.97254902 0.20392157 0.\n",
      " 0.         0.         0.         0.         0.         0.\n",
      " 0.         0.         0.         0.         0.         0.\n",
      " 0.         0.         0.         0.         0.         0.\n",
      " 0.         0.         0.         0.         0.         0.75294118\n",
      " 0.99215686 0.97647059 0.15686275 0.         0.         0.\n",
      " 0.         0.         0.         0.         0.         0.\n",
      " 0.         0.         0.         0.         0.         0.\n",
      " 0.         0.         0.         0.         0.         0.\n",
      " 0.         0.         0.         0.56862745 0.79215686 0.47058824\n",
      " 0.03137255 0.         0.         0.         0.         0.\n",
      " 0.         0.         0.         0.         0.         0.\n",
      " 0.         0.         0.         0.         0.         0.\n",
      " 0.         0.         0.         0.         0.         0.\n",
      " 0.         0.31372549 0.88627451 0.45098039 0.70196078 0.08627451\n",
      " 0.         0.         0.         0.         0.         0.\n",
      " 0.         0.         0.         0.         0.         0.\n",
      " 0.         0.         0.         0.         0.         0.\n",
      " 0.         0.         0.         0.         0.         0.15294118\n",
      " 0.87058824 0.54117647 0.98823529 0.71764706 0.14117647 0.03137255\n",
      " 0.01176471 0.         0.         0.         0.         0.00392157\n",
      " 0.         0.         0.         0.         0.         0.\n",
      " 0.         0.         0.         0.         0.         0.\n",
      " 0.         0.         0.         0.00392157 0.26666667 0.79215686\n",
      " 0.94901961 0.89803922 0.83529412 0.87058824 0.82745098 0.71764706\n",
      " 0.19215686 0.         0.         0.00784314 0.         0.\n",
      " 0.         0.         0.         0.         0.         0.\n",
      " 0.         0.         0.         0.         0.         0.\n",
      " 0.         0.         0.         0.08627451 0.69019608 0.94117647\n",
      " 0.99215686 0.91372549 0.99607843 1.         0.68235294 0.\n",
      " 0.         0.         0.         0.         0.         0.\n",
      " 0.         0.         0.         0.         0.         0.\n",
      " 0.         0.         0.         0.         0.         0.\n",
      " 0.         0.         0.01960784 0.4745098  0.87843137 0.99607843\n",
      " 1.         1.         0.59607843 0.         0.         0.\n",
      " 0.         0.         0.         0.         0.         0.\n",
      " 0.         0.         0.         0.         0.         0.\n",
      " 0.         0.         0.         0.         0.         0.\n",
      " 0.         0.00392157 0.25882353 0.64705882 0.91764706 0.58823529\n",
      " 0.16078431 0.         0.         0.         0.         0.\n",
      " 0.         0.         0.         0.        ]\n",
      "\n",
      "\n",
      "\n",
      "\n",
      "[0.         0.         0.31764706 0.03529412 0.00392157 0.5372549\n",
      " 0.24313725 0.00392157 0.         0.         0.         0.\n",
      " 0.         0.         0.         0.         0.         0.\n",
      " 0.         0.         0.         0.         0.         0.\n",
      " 0.         0.         0.         0.         0.         0.\n",
      " 0.72156863 0.57254902 0.3372549  0.99215686 0.99607843 0.41960784\n",
      " 0.         0.         0.         0.         0.         0.\n",
      " 0.         0.         0.         0.         0.         0.\n",
      " 0.         0.         0.         0.         0.         0.\n",
      " 0.         0.         0.         0.         0.27058824 0.99215686\n",
      " 0.99215686 1.         1.         0.94117647 0.12156863 0.\n",
      " 0.         0.         0.         0.         0.         0.\n",
      " 0.         0.         0.         0.         0.         0.\n",
      " 0.         0.         0.         0.         0.         0.\n",
      " 0.         0.         0.02352941 0.89803922 1.         1.\n",
      " 1.         0.85490196 0.0745098  0.         0.         0.\n",
      " 0.         0.         0.         0.         0.         0.\n",
      " 0.         0.         0.         0.         0.         0.00392157\n",
      " 0.00392157 0.         0.         0.         0.         0.\n",
      " 0.         0.68627451 1.         0.99607843 0.75686275 0.14901961\n",
      " 0.         0.         0.         0.         0.         0.\n",
      " 0.         0.         0.         0.         0.         0.\n",
      " 0.         0.         0.03529412 0.64313725 0.70196078 0.0745098\n",
      " 0.         0.         0.         0.         0.12941176 0.91764706\n",
      " 1.         0.6        0.01568627 0.         0.         0.\n",
      " 0.         0.         0.         0.         0.         0.\n",
      " 0.         0.         0.         0.         0.00392157 0.19215686\n",
      " 0.77647059 1.         1.         0.77254902 0.2        0.\n",
      " 0.         0.10980392 0.74509804 1.         1.         0.66666667\n",
      " 0.38431373 0.16470588 0.00392157 0.         0.         0.\n",
      " 0.         0.         0.         0.         0.         0.\n",
      " 0.         0.09411765 0.67058824 0.98431373 1.         1.\n",
      " 1.         1.         0.90980392 0.02745098 0.01568627 0.8627451\n",
      " 1.         1.         1.         1.         1.         0.98823529\n",
      " 0.78431373 0.23921569 0.         0.         0.         0.\n",
      " 0.         0.         0.         0.06666667 0.48627451 0.90980392\n",
      " 1.         1.         1.         1.         0.96862745 0.7372549\n",
      " 0.24313725 0.         0.01176471 0.86666667 1.         1.\n",
      " 0.99215686 0.98039216 0.99215686 1.         1.         0.99215686\n",
      " 0.50980392 0.00784314 0.         0.         0.         0.10196078\n",
      " 0.4627451  0.91764706 1.         1.         0.96470588 0.61960784\n",
      " 0.36470588 0.23921569 0.04313725 0.         0.         0.\n",
      " 0.01176471 0.83529412 0.97647059 0.63137255 0.18823529 0.08235294\n",
      " 0.16470588 0.2627451  0.78823529 1.         0.99607843 0.30196078\n",
      " 0.         0.10196078 0.57647059 0.96862745 1.         0.99215686\n",
      " 0.81960784 0.49411765 0.13333333 0.         0.         0.\n",
      " 0.         0.         0.         0.         0.         0.08235294\n",
      " 0.1254902  0.         0.         0.         0.         0.\n",
      " 0.16078431 0.98431373 1.         0.6627451  0.52156863 0.90980392\n",
      " 1.         0.99215686 0.65490196 0.25882353 0.01960784 0.\n",
      " 0.         0.         0.         0.         0.         0.\n",
      " 0.         0.         0.         0.         0.         0.\n",
      " 0.         0.         0.         0.         0.01960784 0.90196078\n",
      " 1.         1.         1.         1.         0.90196078 0.30980392\n",
      " 0.00392157 0.         0.         0.         0.         0.\n",
      " 0.         0.         0.         0.         0.         0.\n",
      " 0.         0.         0.         0.         0.         0.\n",
      " 0.         0.         0.09019608 0.92156863 1.         1.\n",
      " 1.         0.81176471 0.17254902 0.         0.         0.\n",
      " 0.         0.         0.         0.         0.         0.\n",
      " 0.         0.         0.         0.         0.         0.\n",
      " 0.         0.         0.         0.         0.         0.08235294\n",
      " 0.81568627 1.         1.         1.         0.89019608 0.08627451\n",
      " 0.         0.         0.         0.         0.         0.\n",
      " 0.         0.         0.         0.         0.         0.\n",
      " 0.         0.         0.         0.         0.         0.\n",
      " 0.         0.         0.         0.57647059 1.         1.\n",
      " 1.         1.         0.36078431 0.         0.         0.\n",
      " 0.         0.         0.         0.         0.         0.\n",
      " 0.         0.         0.         0.         0.         0.\n",
      " 0.         0.         0.         0.         0.         0.\n",
      " 0.19607843 0.96862745 1.         1.         1.         0.71764706\n",
      " 0.01960784 0.         0.         0.         0.         0.\n",
      " 0.         0.         0.         0.         0.         0.\n",
      " 0.         0.         0.         0.         0.         0.\n",
      " 0.         0.         0.         0.00392157 0.68235294 1.\n",
      " 1.         1.         1.         0.44313725 0.         0.\n",
      " 0.         0.         0.         0.         0.         0.\n",
      " 0.         0.         0.         0.         0.         0.\n",
      " 0.         0.         0.         0.         0.         0.\n",
      " 0.         0.14901961 0.98431373 1.         1.         1.\n",
      " 1.         0.24705882 0.         0.         0.         0.\n",
      " 0.         0.         0.         0.         0.         0.\n",
      " 0.         0.         0.         0.         0.         0.\n",
      " 0.         0.         0.         0.         0.         0.42352941\n",
      " 1.         1.         1.         1.         0.90196078 0.02352941\n",
      " 0.         0.         0.         0.         0.         0.\n",
      " 0.         0.         0.         0.         0.         0.\n",
      " 0.         0.         0.         0.         0.         0.\n",
      " 0.         0.         0.         0.28235294 1.         1.\n",
      " 1.         1.         0.48235294 0.         0.         0.\n",
      " 0.         0.         0.         0.         0.         0.\n",
      " 0.         0.         0.         0.         0.         0.\n",
      " 0.         0.         0.         0.         0.         0.\n",
      " 0.         0.04705882 0.92156863 1.         1.         1.\n",
      " 0.49803922 0.01568627 0.         0.         0.         0.\n",
      " 0.         0.         0.         0.         0.         0.\n",
      " 0.         0.         0.         0.         0.         0.\n",
      " 0.         0.         0.         0.         0.         0.\n",
      " 0.59607843 1.         1.         1.         1.         0.8\n",
      " 0.3254902  0.00392157 0.         0.         0.         0.\n",
      " 0.         0.         0.         0.         0.         0.\n",
      " 0.         0.         0.         0.         0.         0.\n",
      " 0.         0.         0.         0.         0.0627451  0.77647059\n",
      " 1.         1.         0.90588235 0.94117647 0.99215686 0.51372549\n",
      " 0.00784314 0.         0.         0.         0.         0.\n",
      " 0.         0.         0.         0.         0.         0.\n",
      " 0.         0.         0.         0.         0.         0.\n",
      " 0.         0.         0.         0.09411765 0.48627451 0.66666667\n",
      " 0.92156863 1.         1.         0.98823529 0.31372549 0.\n",
      " 0.         0.         0.         0.         0.         0.\n",
      " 0.         0.         0.         0.         0.         0.\n",
      " 0.         0.         0.         0.         0.         0.\n",
      " 0.         0.         0.         0.         0.04313725 0.57647059\n",
      " 1.         0.78823529 0.37647059 0.         0.         0.\n",
      " 0.         0.         0.         0.         0.         0.\n",
      " 0.         0.         0.         0.         0.         0.\n",
      " 0.         0.         0.         0.         0.         0.\n",
      " 0.         0.         0.01960784 0.65098039 1.         0.60784314\n",
      " 0.00392157 0.         0.         0.         0.         0.\n",
      " 0.         0.         0.         0.         0.         0.\n",
      " 0.         0.         0.         0.         0.         0.\n",
      " 0.         0.         0.         0.         0.         0.14117647\n",
      " 0.7372549  1.         0.94509804 0.27843137 0.         0.\n",
      " 0.         0.         0.         0.         0.         0.\n",
      " 0.         0.         0.         0.         0.         0.\n",
      " 0.         0.         0.         0.         0.         0.\n",
      " 0.         0.01960784 0.43137255 0.94117647 1.         0.87843137\n",
      " 0.26666667 0.         0.         0.         0.         0.\n",
      " 0.         0.         0.         0.         0.         0.\n",
      " 0.         0.         0.         0.        ]\n",
      "\n",
      "\n",
      "\n",
      "\n"
     ]
    }
   ],
   "source": [
    "for i in range(0,3):\n",
    "    \n",
    "    print(X[i])\n",
    "    print('\\n')\n",
    "    print('\\n')"
   ]
  },
  {
   "cell_type": "code",
   "execution_count": 7,
   "metadata": {},
   "outputs": [
    {
     "name": "stdout",
     "output_type": "stream",
     "text": [
      "7\n",
      "\n",
      "\n",
      "\n",
      "\n",
      "2\n",
      "\n",
      "\n",
      "\n",
      "\n",
      "9\n",
      "\n",
      "\n",
      "\n",
      "\n"
     ]
    }
   ],
   "source": [
    "for i in range(0,3):\n",
    "    \n",
    "    print(y[i])\n",
    "    print('\\n')\n",
    "    print('\\n')"
   ]
  },
  {
   "cell_type": "code",
   "execution_count": 8,
   "metadata": {},
   "outputs": [],
   "source": [
    "\n",
    "\n",
    "\n",
    "#function for plotting a image and printing the corresponding label\n",
    "def plot_input(X_matrix, labels, index):\n",
    "    print(\"INPUT:\")\n",
    "    plt.imshow(\n",
    "        X_matrix[index].reshape(28,28),\n",
    "        cmap          = plt.cm.gray_r,\n",
    "        interpolation = \"nearest\"\n",
    "    )\n",
    "    plt.show()\n",
    "    print(\"LABEL: %i\"%labels[index])\n",
    "    return"
   ]
  },
  {
   "cell_type": "code",
   "execution_count": 9,
   "metadata": {},
   "outputs": [
    {
     "name": "stdout",
     "output_type": "stream",
     "text": [
      "INPUT:\n"
     ]
    },
    {
     "data": {
      "image/png": "[encoded data removed]",
      "text/plain": [
       "<Figure size 432x288 with 1 Axes>"
      ]
     },
     "metadata": {
      "needs_background": "light"
     },
     "output_type": "display_data"
    },
    {
     "name": "stdout",
     "output_type": "stream",
     "text": [
      "LABEL: 8\n",
      "INPUT:\n"
     ]
    },
    {
     "data": {
      "image/png": "[encoded data removed]",
      "text/plain": [
       "<Figure size 432x288 with 1 Axes>"
      ]
     },
     "metadata": {
      "needs_background": "light"
     },
     "output_type": "display_data"
    },
    {
     "name": "stdout",
     "output_type": "stream",
     "text": [
      "LABEL: 3\n",
      "INPUT:\n"
     ]
    },
    {
     "data": {
      "image/png": "[encoded data removed]",
      "text/plain": [
       "<Figure size 432x288 with 1 Axes>"
      ]
     },
     "metadata": {
      "needs_background": "light"
     },
     "output_type": "display_data"
    },
    {
     "name": "stdout",
     "output_type": "stream",
     "text": [
      "LABEL: 1\n"
     ]
    }
   ],
   "source": [
    "#let's try the plotting function\n",
    "plot_input(X_train,y_train,10)\n",
    "plot_input(X_test,y_test,100)\n",
    "plot_input(X_test,y_test,1000)"
   ]
  },
  {
   "cell_type": "markdown",
   "metadata": {},
   "source": [
    "### TO DO 1\n",
    "\n",
    "Now use a feed-forward Neural Network for prediction. Use the multi-layer perceptron classifier, with the following parameters: max_iter=100, alpha=1e-4, solver='sgd', tol=1e-4, learning_rate_init=.1, random_state=ID (this last parameter ensures the run is the same even if you run it more than once). The alpha parameter is the regularization term.\n",
    "\n",
    "Then, using the default activation function, pick four or five architectures to consider, with different numbers of hidden layers and different sizes. It is not necessary to create huge neural networks, you can limit to 3 layers and, for each layer, its maximum size can be of 50. Evaluate the architectures you chose using GridSearchCV with cv=5.\n",
    "\n",
    "You can reduce the number of iterations if the running time is too long on your computer.\n"
   ]
  },
  {
   "cell_type": "code",
   "execution_count": 10,
   "metadata": {},
   "outputs": [
    {
     "name": "stdout",
     "output_type": "stream",
     "text": [
      "RESULTS FOR NN\n",
      "\n",
      "Best parameters set found:\n",
      "{'hidden_layer_sizes': (40,)}\n",
      "Score with best parameters:\n",
      "0.75\n",
      "\n",
      "All scores on the grid:\n",
      "[0.7        0.74       0.75       0.695      0.70666667]\n",
      "All scores:\n",
      "{'mean_fit_time': array([6.07600346, 0.63698325, 0.46795077, 0.6193891 , 0.72791638]), 'std_fit_time': array([3.03290092, 0.16173331, 0.06139029, 0.41606136, 0.52171669]), 'mean_score_time': array([0.00735297, 0.00092034, 0.00133505, 0.00142474, 0.00187569]), 'std_score_time': array([0.0048068 , 0.0001114 , 0.00046932, 0.00066145, 0.00098865]), 'param_hidden_layer_sizes': masked_array(data=[(10,), (20,), (40,), (20, 20), (40, 20, 10)],\n",
      "             mask=[False, False, False, False, False],\n",
      "       fill_value='?',\n",
      "            dtype=object), 'params': [{'hidden_layer_sizes': (10,)}, {'hidden_layer_sizes': (20,)}, {'hidden_layer_sizes': (40,)}, {'hidden_layer_sizes': (20, 20)}, {'hidden_layer_sizes': (40, 20, 10)}], 'split0_test_score': array([0.69166667, 0.74166667, 0.775     , 0.71666667, 0.7       ]), 'split1_test_score': array([0.70833333, 0.75833333, 0.76666667, 0.7       , 0.75      ]), 'split2_test_score': array([0.675     , 0.71666667, 0.70833333, 0.66666667, 0.60833333]), 'split3_test_score': array([0.75      , 0.73333333, 0.74166667, 0.7       , 0.76666667]), 'split4_test_score': array([0.675     , 0.75      , 0.75833333, 0.69166667, 0.70833333]), 'mean_test_score': array([0.7       , 0.74      , 0.75      , 0.695     , 0.70666667]), 'std_test_score': array([0.02788867, 0.01433721, 0.02357023, 0.01632993, 0.05512612]), 'rank_test_score': array([4, 2, 1, 5, 3], dtype=int32)}\n"
     ]
    }
   ],
   "source": [
    "# these are sample values but feel free to change them as you like, try to experiment with different sizes!!\n",
    "parameters = {'hidden_layer_sizes': [(10,), (20,), (40,), (20,20,), (40,20,10) ]}\n",
    "\n",
    "mlp = MLPClassifier(max_iter=100, alpha=1e-4, solver='sgd',\n",
    "                    tol=1e-4, random_state=ID,\n",
    "                    learning_rate_init=.1)\n",
    "\n",
    "grid = GridSearchCV(mlp, parameters, cv=5)\n",
    "grid.fit(X_train,y_train)\n",
    "\n",
    "print ('RESULTS FOR NN\\n')\n",
    "\n",
    "print(\"Best parameters set found:\")\n",
    "print(grid.best_params_)\n",
    "\n",
    "print(\"Score with best parameters:\")\n",
    "print(grid.best_score_)\n",
    "\n",
    "print(\"\\nAll scores on the grid:\")\n",
    "print(grid.cv_results_['mean_test_score'])\n",
    "\n",
    "print('All scores:')\n",
    "print(grid.cv_results_)"
   ]
  },
  {
   "cell_type": "markdown",
   "metadata": {},
   "source": [
    "### TO DO 2\n",
    "\n",
    "Now try also different batch sizes, while keeping the best NN architecture you have found above. Remember that the batch size was previously set to the default value, i.e., min(200, n_samples). \n",
    "Recall that a batch size of 1 corresponds to baseline SGD, while using all the 480 training samples (there are 600 samples but in cross validation with 5 folders we use 1/5 of them for validation at each round) corresponds to standard GD and using a different mini-batch size lies in the middle between the two extreme cases."
   ]
  },
  {
   "cell_type": "code",
   "execution_count": 11,
   "metadata": {},
   "outputs": [
    {
     "name": "stderr",
     "output_type": "stream",
     "text": [
      "/Users/filippoboni/opt/anaconda3/lib/python3.8/site-packages/sklearn/neural_network/_multilayer_perceptron.py:619: UserWarning: Training interrupted by user.\n",
      "  warnings.warn(\"Training interrupted by user.\")\n",
      "/Users/filippoboni/opt/anaconda3/lib/python3.8/site-packages/sklearn/neural_network/_multilayer_perceptron.py:614: ConvergenceWarning: Stochastic Optimizer: Maximum iterations (100) reached and the optimization hasn't converged yet.\n",
      "  warnings.warn(\n",
      "/Users/filippoboni/opt/anaconda3/lib/python3.8/site-packages/sklearn/neural_network/_multilayer_perceptron.py:614: ConvergenceWarning: Stochastic Optimizer: Maximum iterations (100) reached and the optimization hasn't converged yet.\n",
      "  warnings.warn(\n",
      "/Users/filippoboni/opt/anaconda3/lib/python3.8/site-packages/sklearn/neural_network/_multilayer_perceptron.py:614: ConvergenceWarning: Stochastic Optimizer: Maximum iterations (100) reached and the optimization hasn't converged yet.\n",
      "  warnings.warn(\n",
      "/Users/filippoboni/opt/anaconda3/lib/python3.8/site-packages/sklearn/neural_network/_multilayer_perceptron.py:614: ConvergenceWarning: Stochastic Optimizer: Maximum iterations (100) reached and the optimization hasn't converged yet.\n",
      "  warnings.warn(\n",
      "/Users/filippoboni/opt/anaconda3/lib/python3.8/site-packages/sklearn/neural_network/_multilayer_perceptron.py:614: ConvergenceWarning: Stochastic Optimizer: Maximum iterations (100) reached and the optimization hasn't converged yet.\n",
      "  warnings.warn(\n"
     ]
    },
    {
     "name": "stdout",
     "output_type": "stream",
     "text": [
      "RESULTS FOR NN\n",
      "\n",
      "Best parameters set found:\n",
      "{'batch_size': 32}\n",
      "Score with best parameters:\n",
      "0.7616666666666667\n",
      "\n",
      "All scores on the grid:\n",
      "[0.095      0.76166667 0.74      ]\n",
      "All scores:\n",
      "{'mean_fit_time': array([11.86959062,  0.3656682 ,  0.37701421]), 'std_fit_time': array([3.61327114, 0.13120496, 0.09784857]), 'mean_score_time': array([0.00080061, 0.00086875, 0.00155816]), 'std_score_time': array([0.00026011, 0.00021131, 0.00109922]), 'param_batch_size': masked_array(data=[1, 32, 480],\n",
      "             mask=[False, False, False],\n",
      "       fill_value='?',\n",
      "            dtype=object), 'params': [{'batch_size': 1}, {'batch_size': 32}, {'batch_size': 480}], 'split0_test_score': array([0.09166667, 0.76666667, 0.725     ]), 'split1_test_score': array([0.10833333, 0.78333333, 0.76666667]), 'split2_test_score': array([0.10833333, 0.78333333, 0.71666667]), 'split3_test_score': array([0.075     , 0.73333333, 0.73333333]), 'split4_test_score': array([0.09166667, 0.74166667, 0.75833333]), 'mean_test_score': array([0.095     , 0.76166667, 0.74      ]), 'std_test_score': array([0.01247219, 0.02081666, 0.01929306]), 'rank_test_score': array([3, 1, 2], dtype=int32)}\n"
     ]
    }
   ],
   "source": [
    "# these are sample values corresponding to baseline SGD, a reasonable mini-batch size and standard GD\n",
    "# again feel free to change them as you like, try to experiment with different batch sizes!!\n",
    "parameters = {'batch_size': [1, 32, 480]}\n",
    "\n",
    "# need to specify that you would like to use the standard k-fold split otherwise sklearn create splits of different sizes\n",
    "kf = sklearn.model_selection.KFold(n_splits=5)\n",
    "\n",
    "#ADD YOUR CODE\n",
    "\n",
    "# recall to use cv=kf to use the k-fold subdivision seen in the lectures\n",
    "\n",
    "mlp = MLPClassifier(max_iter=100, hidden_layer_sizes=(40,), alpha=1e-4, solver='sgd',\n",
    "                    tol=1e-4, random_state=ID,\n",
    "                    learning_rate_init=.1)\n",
    "\n",
    "grid = GridSearchCV(mlp, parameters, cv=kf)\n",
    "grid.fit(X_train,y_train)\n",
    "\n",
    "\n",
    "\n",
    "\n",
    "print ('RESULTS FOR NN\\n')\n",
    "\n",
    "print(\"Best parameters set found:\")\n",
    "print(grid.best_params_)\n",
    "\n",
    "print(\"Score with best parameters:\")\n",
    "print(grid.best_score_)\n",
    "\n",
    "print(\"\\nAll scores on the grid:\")\n",
    "print(grid.cv_results_['mean_test_score'])\n",
    "\n",
    "print('All scores:')\n",
    "print(grid.cv_results_)"
   ]
  },
  {
   "cell_type": "markdown",
   "metadata": {},
   "source": [
    "### QUESTION 1\n",
    "\n",
    "What do you observe for different architectures and batch sizes? How do the number of layers and their sizes affect the performances? What do you observe for different batch sizes, in particular what happens to the training convergence for different batch sizes (notice that the algorithm could not converge for some batch sizes)?"
   ]
  },
  {
   "cell_type": "markdown",
   "metadata": {},
   "source": [
    "## [ANSWER TO QUESTION 1]\n",
    "\n",
    "It is possible to see that the chosen architecture among the ones analized is at the same time not too simple and not too complex. Thus the number of layers and neurons chose are the ones that permit to have a low training error and a good degree of generalisationamong the one analized. Indeed the other architecture could be affected by overffitting or by low precision in learning from the training set.\n",
    "\n",
    "Also in the batch size tunation the middle option is chosen. Applying the baseline SGD leads to a not convergent algorithm. While the normal GD leads to a good validation error but the best choice is the minibatch method, also computationally speaking. "
   ]
  },
  {
   "cell_type": "markdown",
   "metadata": {},
   "source": [
    "### TODO 3:\n",
    "\n",
    "Plot the train and test accuracies as a function of the number of learnable parameters in your neural network. Print also the computation time for the various configurations you try (the code for getting the computation time is already provided). You can use 100 iterations (if you get a warning on convergence not reached it is not an issue for this lab)"
   ]
  },
  {
   "cell_type": "code",
   "execution_count": 12,
   "metadata": {},
   "outputs": [
    {
     "name": "stdout",
     "output_type": "stream",
     "text": [
      "10\n",
      "20\n",
      "40\n",
      "20\n",
      "40\n",
      "Training MLP of size (10,) ...\n",
      "Done, training time: 0.55 sec\n",
      "\n",
      "Training MLP of size (20,) ...\n",
      "Done, training time: 0.25 sec\n",
      "\n",
      "Training MLP of size (40,) ...\n",
      "Done, training time: 0.67 sec\n",
      "\n",
      "Training MLP of size (20, 20) ...\n",
      "Done, training time: 0.32 sec\n",
      "\n",
      "Training MLP of size (40, 20, 10) ...\n",
      "Done, training time: 0.34 sec\n",
      "\n"
     ]
    },
    {
     "data": {
      "image/png": "[encoded data removed]",
      "text/plain": [
       "<Figure size 1080x360 with 2 Axes>"
      ]
     },
     "metadata": {
      "needs_background": "light"
     },
     "output_type": "display_data"
    }
   ],
   "source": [
    "import time\n",
    "from functools import reduce\n",
    "\n",
    "\n",
    "\n",
    "# Function to compute the number of learnable parameters of a mlp given the size of its hidden layers\n",
    "def param_count(hl_size):\n",
    "    tot = 0\n",
    "    input_size, output_size = X_train.shape[1], len(labels)\n",
    "    tot += (input_size+1)*hl_size[0]\n",
    "    print(hl_size[0])\n",
    "    for i in range(1,len(hl_size)):\n",
    "        tot += (hl_size[i-1]+1)*hl_size[i]\n",
    "    tot += (hl_size[-1]+1)*output_size\n",
    "    return tot\n",
    "\n",
    "hl_sizes = [(10,), (20,), (40,), (20,20,), (40,20,10)]\n",
    "hl_labels = [param_count(t) for t in hl_sizes]\n",
    "\n",
    "ti = time.time()\n",
    "train_acc_list, test_acc_list = [], []\n",
    "for hl_size in hl_sizes:\n",
    "    print('Training MLP of size {} ...'.format(hl_size))\n",
    "    \n",
    "    mlp = MLPClassifier(max_iter=100, hidden_layer_sizes=hl_size, alpha=1e-4, solver='sgd',\n",
    "                    tol=1e-4, random_state=ID,\n",
    "                    learning_rate_init=.1)\n",
    "    \n",
    "    mlp.fit(X_train, y_train)\n",
    "    \n",
    "    train_acc_list.append(mlp.score(X_train, y_train))\n",
    "    test_acc_list.append(mlp.score(X_test, y_test))\n",
    "    print('Done, training time: {:.2f} sec\\n'.format(time.time()-ti))\n",
    "    ti = time.time()\n",
    "\n",
    "fig, ax = plt.subplots(1,2, figsize=(15,5))\n",
    "\n",
    "\n",
    "ax[0].plot(train_acc_list)\n",
    "ax[0].set_xlabel('Number of learnable params')\n",
    "ax[0].set_title('Train accuracy')\n",
    "ax[0].set_xticks(np.arange(0,len(hl_labels)))\n",
    "ax[0].set_xticklabels(hl_labels)\n",
    "ax[0].grid(True)\n",
    "\n",
    "ax[1].plot(test_acc_list)\n",
    "ax[1].set_xlabel('Number of learnable params')\n",
    "ax[1].set_title('Test accuracy')\n",
    "ax[1].set_xticks(np.arange(0,len(hl_labels)))\n",
    "ax[1].set_xticklabels(hl_labels)\n",
    "ax[1].grid(True)\n"
   ]
  },
  {
   "cell_type": "markdown",
   "metadata": {},
   "source": [
    "## Question 2:\n",
    "\n",
    "Comment about the training and test accuracies referring to the discussion on underfitting and overfitting we did in the course"
   ]
  },
  {
   "cell_type": "markdown",
   "metadata": {},
   "source": [
    "## [ANSWER TO QUESTION 2]\n",
    "\n",
    "The training accuracy is the same for all the cases while the test accuracy has its top in correspondence of 31810. As seen in the analysis of the number of layers the second case has the second best test accuracy. It is obvious from the test accuracy values that the last two cases are affected by overfitting because of their high number of parameters. While the first case has a bad test accuracy because the number of parameters is too low. Thus it is affected by underfitting."
   ]
  },
  {
   "cell_type": "markdown",
   "metadata": {},
   "source": [
    "### TO DO 4\n",
    "\n",
    "Now try also to use different learning rates, while keeping the best NN architecture and batch size you have found above. Plot the learning curves (i.e., the variation of the loss over the steps, you can get it from the loss_curve_ object of sklearn) for the different values of the learning rate. Try to run each training for 100 iterations. "
   ]
  },
  {
   "cell_type": "code",
   "execution_count": 13,
   "metadata": {},
   "outputs": [
    {
     "name": "stderr",
     "output_type": "stream",
     "text": [
      "/Users/filippoboni/opt/anaconda3/lib/python3.8/site-packages/sklearn/neural_network/_multilayer_perceptron.py:614: ConvergenceWarning: Stochastic Optimizer: Maximum iterations (100) reached and the optimization hasn't converged yet.\n",
      "  warnings.warn(\n",
      "/Users/filippoboni/opt/anaconda3/lib/python3.8/site-packages/sklearn/neural_network/_multilayer_perceptron.py:614: ConvergenceWarning: Stochastic Optimizer: Maximum iterations (100) reached and the optimization hasn't converged yet.\n",
      "  warnings.warn(\n",
      "/Users/filippoboni/opt/anaconda3/lib/python3.8/site-packages/sklearn/neural_network/_multilayer_perceptron.py:614: ConvergenceWarning: Stochastic Optimizer: Maximum iterations (100) reached and the optimization hasn't converged yet.\n",
      "  warnings.warn(\n",
      "/Users/filippoboni/opt/anaconda3/lib/python3.8/site-packages/sklearn/neural_network/_multilayer_perceptron.py:614: ConvergenceWarning: Stochastic Optimizer: Maximum iterations (100) reached and the optimization hasn't converged yet.\n",
      "  warnings.warn(\n",
      "/Users/filippoboni/opt/anaconda3/lib/python3.8/site-packages/sklearn/neural_network/_multilayer_perceptron.py:614: ConvergenceWarning: Stochastic Optimizer: Maximum iterations (100) reached and the optimization hasn't converged yet.\n",
      "  warnings.warn(\n",
      "/Users/filippoboni/opt/anaconda3/lib/python3.8/site-packages/sklearn/neural_network/_multilayer_perceptron.py:614: ConvergenceWarning: Stochastic Optimizer: Maximum iterations (100) reached and the optimization hasn't converged yet.\n",
      "  warnings.warn(\n",
      "/Users/filippoboni/opt/anaconda3/lib/python3.8/site-packages/sklearn/neural_network/_multilayer_perceptron.py:614: ConvergenceWarning: Stochastic Optimizer: Maximum iterations (100) reached and the optimization hasn't converged yet.\n",
      "  warnings.warn(\n",
      "/Users/filippoboni/opt/anaconda3/lib/python3.8/site-packages/sklearn/neural_network/_multilayer_perceptron.py:614: ConvergenceWarning: Stochastic Optimizer: Maximum iterations (100) reached and the optimization hasn't converged yet.\n",
      "  warnings.warn(\n",
      "/Users/filippoboni/opt/anaconda3/lib/python3.8/site-packages/sklearn/neural_network/_multilayer_perceptron.py:614: ConvergenceWarning: Stochastic Optimizer: Maximum iterations (100) reached and the optimization hasn't converged yet.\n",
      "  warnings.warn(\n",
      "/Users/filippoboni/opt/anaconda3/lib/python3.8/site-packages/sklearn/neural_network/_multilayer_perceptron.py:614: ConvergenceWarning: Stochastic Optimizer: Maximum iterations (100) reached and the optimization hasn't converged yet.\n",
      "  warnings.warn(\n"
     ]
    },
    {
     "name": "stdout",
     "output_type": "stream",
     "text": [
      "RESULTS FOR NN\n",
      "\n",
      "Best parameters set found:\n",
      "{'learning_rate_init': 0.02}\n",
      "Score with best parameters:\n",
      "0.745\n",
      "\n",
      "All scores on the grid:\n",
      "[0.62       0.74166667 0.745      0.67833333]\n",
      "All scores:\n",
      "{'mean_fit_time': array([1.1357748 , 1.06856613, 0.80141544, 0.25902801]), 'std_fit_time': array([0.16894532, 0.41403769, 0.11733807, 0.09551994]), 'mean_score_time': array([0.00084796, 0.0008544 , 0.00060334, 0.00063362]), 'std_score_time': array([4.94585192e-05, 2.58618118e-05, 2.15362593e-05, 9.21091664e-05]), 'param_learning_rate_init': masked_array(data=[0.0002, 0.002, 0.02, 0.2],\n",
      "             mask=[False, False, False, False],\n",
      "       fill_value='?',\n",
      "            dtype=object), 'params': [{'learning_rate_init': 0.0002}, {'learning_rate_init': 0.002}, {'learning_rate_init': 0.02}, {'learning_rate_init': 0.2}], 'split0_test_score': array([0.575     , 0.74166667, 0.73333333, 0.675     ]), 'split1_test_score': array([0.625     , 0.76666667, 0.76666667, 0.70833333]), 'split2_test_score': array([0.58333333, 0.73333333, 0.73333333, 0.625     ]), 'split3_test_score': array([0.65833333, 0.74166667, 0.725     , 0.65      ]), 'split4_test_score': array([0.65833333, 0.725     , 0.76666667, 0.73333333]), 'mean_test_score': array([0.62      , 0.74166667, 0.745     , 0.67833333]), 'std_test_score': array([0.03559026, 0.01394433, 0.01795055, 0.0389444 ]), 'rank_test_score': array([4, 2, 1, 3], dtype=int32)}\n"
     ]
    },
    {
     "name": "stderr",
     "output_type": "stream",
     "text": [
      "/Users/filippoboni/opt/anaconda3/lib/python3.8/site-packages/sklearn/neural_network/_multilayer_perceptron.py:614: ConvergenceWarning: Stochastic Optimizer: Maximum iterations (100) reached and the optimization hasn't converged yet.\n",
      "  warnings.warn(\n"
     ]
    },
    {
     "data": {
      "image/png": "[encoded data removed]",
      "text/plain": [
       "<Figure size 432x288 with 1 Axes>"
      ]
     },
     "metadata": {
      "needs_background": "light"
     },
     "output_type": "display_data"
    },
    {
     "name": "stderr",
     "output_type": "stream",
     "text": [
      "/Users/filippoboni/opt/anaconda3/lib/python3.8/site-packages/sklearn/neural_network/_multilayer_perceptron.py:614: ConvergenceWarning: Stochastic Optimizer: Maximum iterations (100) reached and the optimization hasn't converged yet.\n",
      "  warnings.warn(\n"
     ]
    },
    {
     "data": {
      "image/png": "[encoded data removed]",
      "text/plain": [
       "<Figure size 432x288 with 1 Axes>"
      ]
     },
     "metadata": {
      "needs_background": "light"
     },
     "output_type": "display_data"
    },
    {
     "name": "stderr",
     "output_type": "stream",
     "text": [
      "/Users/filippoboni/opt/anaconda3/lib/python3.8/site-packages/sklearn/neural_network/_multilayer_perceptron.py:614: ConvergenceWarning: Stochastic Optimizer: Maximum iterations (100) reached and the optimization hasn't converged yet.\n",
      "  warnings.warn(\n"
     ]
    },
    {
     "data": {
      "image/png": "[encoded data removed]",
      "text/plain": [
       "<Figure size 432x288 with 1 Axes>"
      ]
     },
     "metadata": {
      "needs_background": "light"
     },
     "output_type": "display_data"
    },
    {
     "data": {
      "image/png": "[encoded data removed]",
      "text/plain": [
       "<Figure size 432x288 with 1 Axes>"
      ]
     },
     "metadata": {
      "needs_background": "light"
     },
     "output_type": "display_data"
    }
   ],
   "source": [
    "import matplotlib.pyplot as plt\n",
    "import operator\n",
    "\n",
    "lr_list = [0.0002, 0.002, 0.02, 0.2]\n",
    "scores = {}\n",
    "\n",
    "parameters={'learning_rate_init':lr_list}\n",
    "\n",
    "mlp = MLPClassifier(max_iter=100, hidden_layer_sizes=(40,), alpha=1e-4, solver='sgd',\n",
    "                    tol=1e-4, random_state=ID,\n",
    "                    batch_size=32)\n",
    "\n",
    "grid = GridSearchCV(mlp, parameters, cv=kf)\n",
    "grid.fit(X_train,y_train)\n",
    "\n",
    "\n",
    "print ('RESULTS FOR NN\\n')\n",
    "\n",
    "print(\"Best parameters set found:\")\n",
    "print(grid.best_params_)\n",
    "\n",
    "print(\"Score with best parameters:\")\n",
    "print(grid.best_score_)\n",
    "\n",
    "print(\"\\nAll scores on the grid:\")\n",
    "print(grid.cv_results_['mean_test_score'])\n",
    "\n",
    "print('All scores:')\n",
    "print(grid.cv_results_)\n",
    "\n",
    "for l in lr_list:\n",
    "    \n",
    "    mlp = MLPClassifier(max_iter=100, hidden_layer_sizes=(40,), alpha=1e-4, solver='sgd',\n",
    "                    tol=1e-10, random_state=ID,\n",
    "                    learning_rate_init=l, batch_size=32)\n",
    "    \n",
    "    mlp.fit(X_train, y_train)\n",
    "    \n",
    "    loss_values = mlp.loss_curve_\n",
    "    \n",
    "    plt.plot(loss_values)\n",
    "    plt.show()\n",
    "\n",
    "\n"
   ]
  },
  {
   "cell_type": "markdown",
   "metadata": {},
   "source": [
    "### QUESTION 3\n",
    "\n",
    "Comment about the learning curves (i.e. the variation of the loss over the steps). How does the curve changes for different learning rates in terms of stability and speed of convergence ?"
   ]
  },
  {
   "cell_type": "markdown",
   "metadata": {},
   "source": [
    "## [ANSWER TO QUESTION 3]\n",
    "\n",
    "\n",
    "Seeing the learning curves it is possbile to characterize the first and the last learning rates as the extreme cases. Indeed with the learning rate equal to 0.0002 there is the convergence but it is too slow while with the learning rate equal to 0.2 the learning process is too unstable. This can be seen by the fact that the learning cuves stops after 20 epochs. This means that after that point there is not possibility to minimize the curve.\n",
    "\n",
    "The other cases are good but the third one (learning rate=0.02) is the best. This can be seen comparing the two scores and the two curves. Indeed the third case has a faster convergence."
   ]
  },
  {
   "cell_type": "markdown",
   "metadata": {},
   "source": [
    "### TO DO 5\n",
    "\n",
    "Now get training and test error for a NN with best parameters (architecture, batch size and learning rate) from above. Plot the learning curve also for this case (you can run the training for 500 iterations)."
   ]
  },
  {
   "cell_type": "code",
   "execution_count": 14,
   "metadata": {
    "scrolled": true
   },
   "outputs": [
    {
     "name": "stdout",
     "output_type": "stream",
     "text": [
      "\n",
      "RESULTS FOR BEST NN\n",
      "\n",
      "Best NN training error: 0.000000\n",
      "Best NN test error: 0.275750\n"
     ]
    },
    {
     "name": "stderr",
     "output_type": "stream",
     "text": [
      "/Users/filippoboni/opt/anaconda3/lib/python3.8/site-packages/sklearn/neural_network/_multilayer_perceptron.py:614: ConvergenceWarning: Stochastic Optimizer: Maximum iterations (500) reached and the optimization hasn't converged yet.\n",
      "  warnings.warn(\n"
     ]
    },
    {
     "data": {
      "image/png": "[encoded data removed]",
      "text/plain": [
       "<Figure size 432x288 with 1 Axes>"
      ]
     },
     "metadata": {
      "needs_background": "light"
     },
     "output_type": "display_data"
    }
   ],
   "source": [
    "#get training and test error for the best NN model from CV\n",
    "\n",
    "mlp = MLPClassifier(max_iter=500, hidden_layer_sizes=(40,), alpha=1e-4, solver='sgd',\n",
    "                    tol=1e-10, random_state=ID,\n",
    "                    learning_rate_init=0.02, batch_size=32)\n",
    "    \n",
    "mlp.fit(X_train, y_train)\n",
    "\n",
    "training_error=1-mlp.score(X_train, y_train)\n",
    "test_error=1-mlp.score(X_test, y_test)\n",
    "\n",
    "print ('\\nRESULTS FOR BEST NN\\n')\n",
    "\n",
    "print (\"Best NN training error: %f\" % training_error)\n",
    "print (\"Best NN test error: %f\" % test_error)\n",
    "\n",
    "\n",
    "loss_values = mlp.loss_curve_\n",
    "        \n",
    "plt.plot(loss_values)\n",
    "plt.show()\n",
    "\n"
   ]
  },
  {
   "cell_type": "markdown",
   "metadata": {},
   "source": [
    "## More data \n",
    "Now let's do the same but using 4000 (or less if it takes too long on your machine) data points for training. Use the same NN architecture as before, but you can try more if you like and have a powerful computer!!"
   ]
  },
  {
   "cell_type": "code",
   "execution_count": 15,
   "metadata": {},
   "outputs": [
    {
     "name": "stdout",
     "output_type": "stream",
     "text": [
      "Labels in training dataset:  [0 1 2 3 4 5 6 7 8 9]\n",
      "Frequencies in training dataset:  [480 493 498 496 556 508 486 492 503 488]\n"
     ]
    }
   ],
   "source": [
    "X = X[permutation]\n",
    "y = y[permutation]\n",
    "\n",
    "m_training = 5000\n",
    "\n",
    "X_train, X_test = X[:m_training], X[m_training:]\n",
    "y_train, y_test = y[:m_training], y[m_training:]\n",
    "\n",
    "labels, freqs = np.unique(y_train, return_counts=True)\n",
    "print(\"Labels in training dataset: \", labels)\n",
    "print(\"Frequencies in training dataset: \", freqs)"
   ]
  },
  {
   "cell_type": "markdown",
   "metadata": {},
   "source": [
    "### TO DO 6\n",
    "\n",
    "Now train the NNs with the added data points using the optimum parameters found above. Eventually, feel free to try different architectures if you like. We suggest that you use 'verbose=True' so have an idea of how long it takes to run 1 iteration (eventually reduce also the number of iterations to 50)."
   ]
  },
  {
   "cell_type": "code",
   "execution_count": 16,
   "metadata": {},
   "outputs": [
    {
     "name": "stdout",
     "output_type": "stream",
     "text": [
      "Iteration 1, loss = 1.02137978\n",
      "Iteration 2, loss = 0.52612318\n",
      "Iteration 3, loss = 0.39994027\n",
      "Iteration 4, loss = 0.31208391\n",
      "Iteration 5, loss = 0.25726963\n",
      "Iteration 6, loss = 0.20480960\n",
      "Iteration 7, loss = 0.16348350\n",
      "Iteration 8, loss = 0.13204388\n",
      "Iteration 9, loss = 0.09985163\n",
      "Iteration 10, loss = 0.08699260\n",
      "Iteration 11, loss = 0.06840934\n",
      "Iteration 12, loss = 0.05331781\n",
      "Iteration 13, loss = 0.03936605\n",
      "Iteration 14, loss = 0.03076517\n",
      "Iteration 15, loss = 0.02599192\n",
      "Iteration 16, loss = 0.02077726\n",
      "Iteration 17, loss = 0.01749463\n",
      "Iteration 18, loss = 0.01548352\n",
      "Iteration 19, loss = 0.01397720\n",
      "Iteration 20, loss = 0.01255040\n",
      "Iteration 21, loss = 0.01138215\n",
      "Iteration 22, loss = 0.01035579\n",
      "Iteration 23, loss = 0.00951101\n",
      "Iteration 24, loss = 0.00881536\n",
      "Iteration 25, loss = 0.00829633\n",
      "Iteration 26, loss = 0.00771088\n",
      "Iteration 27, loss = 0.00728495\n",
      "Iteration 28, loss = 0.00686667\n",
      "Iteration 29, loss = 0.00657767\n",
      "Iteration 30, loss = 0.00623404\n",
      "Iteration 31, loss = 0.00597296\n",
      "Iteration 32, loss = 0.00565154\n",
      "Iteration 33, loss = 0.00542558\n",
      "Iteration 34, loss = 0.00517833\n",
      "Iteration 35, loss = 0.00503864\n",
      "Iteration 36, loss = 0.00485994\n",
      "Iteration 37, loss = 0.00465377\n",
      "Iteration 38, loss = 0.00451620\n",
      "Iteration 39, loss = 0.00436207\n",
      "Iteration 40, loss = 0.00423705\n",
      "Iteration 41, loss = 0.00411676\n",
      "Iteration 42, loss = 0.00400132\n",
      "Iteration 43, loss = 0.00388607\n",
      "Iteration 44, loss = 0.00378975\n",
      "Iteration 45, loss = 0.00368866\n",
      "Iteration 46, loss = 0.00361214\n",
      "Iteration 47, loss = 0.00351344\n",
      "Iteration 48, loss = 0.00344120\n",
      "Iteration 49, loss = 0.00336165\n",
      "Iteration 50, loss = 0.00329439\n",
      "Iteration 51, loss = 0.00323378\n",
      "Iteration 52, loss = 0.00316490\n",
      "Iteration 53, loss = 0.00311140\n",
      "Iteration 54, loss = 0.00305931\n",
      "Iteration 55, loss = 0.00300575\n",
      "Iteration 56, loss = 0.00294008\n",
      "Iteration 57, loss = 0.00289481\n",
      "Iteration 58, loss = 0.00285229\n",
      "Iteration 59, loss = 0.00280134\n",
      "Iteration 60, loss = 0.00275758\n",
      "Iteration 61, loss = 0.00271647\n",
      "Iteration 62, loss = 0.00267387\n",
      "Iteration 63, loss = 0.00264139\n",
      "Iteration 64, loss = 0.00260156\n",
      "Iteration 65, loss = 0.00256922\n",
      "Iteration 66, loss = 0.00252632\n",
      "Iteration 67, loss = 0.00250752\n",
      "Iteration 68, loss = 0.00247022\n",
      "Iteration 69, loss = 0.00244063\n",
      "Iteration 70, loss = 0.00240687\n",
      "Iteration 71, loss = 0.00238669\n",
      "Iteration 72, loss = 0.00235776\n",
      "Iteration 73, loss = 0.00232233\n",
      "Iteration 74, loss = 0.00230296\n",
      "Iteration 75, loss = 0.00228088\n",
      "Iteration 76, loss = 0.00225794\n",
      "Iteration 77, loss = 0.00223278\n",
      "Iteration 78, loss = 0.00221041\n",
      "Iteration 79, loss = 0.00219024\n",
      "Iteration 80, loss = 0.00216936\n",
      "Iteration 81, loss = 0.00215228\n",
      "Iteration 82, loss = 0.00212907\n",
      "Iteration 83, loss = 0.00211041\n",
      "Iteration 84, loss = 0.00209496\n",
      "Iteration 85, loss = 0.00207657\n",
      "Iteration 86, loss = 0.00205785\n",
      "Iteration 87, loss = 0.00204385\n",
      "Iteration 88, loss = 0.00202720\n",
      "Iteration 89, loss = 0.00200895\n",
      "Iteration 90, loss = 0.00199727\n",
      "Iteration 91, loss = 0.00197927\n",
      "Iteration 92, loss = 0.00196377\n",
      "Iteration 93, loss = 0.00195202\n",
      "Iteration 94, loss = 0.00193567\n",
      "Iteration 95, loss = 0.00192621\n",
      "Iteration 96, loss = 0.00191210\n",
      "Iteration 97, loss = 0.00189963\n",
      "Iteration 98, loss = 0.00188579\n",
      "Iteration 99, loss = 0.00187543\n",
      "Iteration 100, loss = 0.00186176\n",
      "\n",
      "RESULTS FOR NN\n",
      "\n",
      "NN training error: 0.000000\n",
      "NN test error: 0.133073\n"
     ]
    },
    {
     "name": "stderr",
     "output_type": "stream",
     "text": [
      "/Users/filippoboni/opt/anaconda3/lib/python3.8/site-packages/sklearn/neural_network/_multilayer_perceptron.py:614: ConvergenceWarning: Stochastic Optimizer: Maximum iterations (100) reached and the optimization hasn't converged yet.\n",
      "  warnings.warn(\n"
     ]
    }
   ],
   "source": [
    "# use best architecture and params from before\n",
    "\n",
    "mlp_large = MLPClassifier(max_iter=100, hidden_layer_sizes=(40,), alpha=1e-4, solver='sgd',\n",
    "                    tol=1e-10, random_state=ID, verbose=True,\n",
    "                    learning_rate_init=0.02, batch_size=32)\n",
    "    \n",
    "mlp_large.fit(X_train, y_train)\n",
    "\n",
    "\n",
    "\n",
    "print ('\\nRESULTS FOR NN\\n')\n",
    "\n",
    "#get training and test error for the NN\n",
    "\n",
    "training_error=1-mlp_large.score(X_train, y_train)\n",
    "test_error=1-mlp_large.score(X_test, y_test)\n",
    "\n",
    "print (\"NN training error: %f\" % training_error)\n",
    "print (\"NN test error: %f\" % test_error)\n"
   ]
  },
  {
   "cell_type": "markdown",
   "metadata": {},
   "source": [
    "## QUESTION 4\n",
    "Compare the train and test error you got with a large number of samples with the best one you obtained with only 600 data points. Comment about the results you obtained."
   ]
  },
  {
   "cell_type": "markdown",
   "metadata": {},
   "source": [
    "#### [ANSWER TO QUESTION 4]\n",
    "\n",
    "The training error is 0 in both cases while the test error is better in the case with more data. This was expected because the NN performances are strongly linked with dimension of the trainig set"
   ]
  },
  {
   "cell_type": "markdown",
   "metadata": {},
   "source": [
    "### TO DO 7\n",
    "\n",
    "Plot an example that was missclassified by NN with m=600 training data points and it is now instead correctly classified by NN with m=4000 training data points."
   ]
  },
  {
   "cell_type": "code",
   "execution_count": 17,
   "metadata": {},
   "outputs": [
    {
     "name": "stdout",
     "output_type": "stream",
     "text": [
      " index and element of the test set: 28, 2\n",
      " wrong prediction of the NN with 600 data: 5\n",
      " wright prediction of the NN with 5000 data: 2\n"
     ]
    }
   ],
   "source": [
    "NN_prediction = mlp.predict(X_train)\n",
    "NN_prediction = np.asarray(NN_prediction)\n",
    "\n",
    "large_NN_prediction = mlp_large.predict(X_train)\n",
    "large_NN_prediction = np.asarray(large_NN_prediction)\n",
    "\n",
    "\n",
    "for i in range(np.size(large_NN_prediction)):\n",
    "    if y_test[i]!=NN_prediction[i] and  y_test[i]==large_NN_prediction[i]:\n",
    "        print(f' index and element of the test set: {i}, {y_test[i]}')\n",
    "        print(f' wrong prediction of the NN with 600 data: {NN_prediction[i]}')\n",
    "        print(f' wright prediction of the NN with 5000 data: {large_NN_prediction[i]}')\n",
    "        break\n",
    "        "
   ]
  },
  {
   "cell_type": "markdown",
   "metadata": {},
   "source": [
    "### TO DO 8\n",
    "\n",
    "Let's plot the weigths of the multi-layer perceptron classifier, for the best NN we get with 600 data points and with 4000 data points. The code is already provided, just fix variable names (e.g., replace mlp , mlp_large with your estimators) in order to have it working with your implementation\n",
    "\n"
   ]
  },
  {
   "cell_type": "code",
   "execution_count": 18,
   "metadata": {},
   "outputs": [
    {
     "name": "stdout",
     "output_type": "stream",
     "text": [
      "Weights with 600 data points:\n"
     ]
    },
    {
     "data": {
      "image/png": "[encoded data removed]",
      "text/plain": [
       "<Figure size 1008x1008 with 16 Axes>"
      ]
     },
     "metadata": {},
     "output_type": "display_data"
    }
   ],
   "source": [
    "print(\"Weights with 600 data points:\")\n",
    "\n",
    "fig, axes = plt.subplots(4, 4, figsize=(14,14))\n",
    "vmin, vmax = mlp.coefs_[0].min(), mlp.coefs_[0].max()\n",
    "for coef, ax in zip(mlp.coefs_[0].T, axes.ravel()):\n",
    "    ax.matshow(coef.reshape(28, 28), cmap=plt.cm.gray, vmin=.5 * vmin,\n",
    "               vmax=.5 * vmax)\n",
    "    ax.set_xticks(())\n",
    "    ax.set_yticks(())\n",
    "\n",
    "plt.show()\n",
    "\n"
   ]
  },
  {
   "cell_type": "code",
   "execution_count": 19,
   "metadata": {},
   "outputs": [
    {
     "name": "stdout",
     "output_type": "stream",
     "text": [
      "Weights with 5000 data points:\n"
     ]
    },
    {
     "data": {
      "image/png": "[encoded data removed]",
      "text/plain": [
       "<Figure size 1008x1008 with 16 Axes>"
      ]
     },
     "metadata": {},
     "output_type": "display_data"
    }
   ],
   "source": [
    "print(\"Weights with 5000 data points:\")\n",
    "\n",
    "fig, axes = plt.subplots(4, 4, figsize=(14,14))\n",
    "vmin, vmax = mlp_large.coefs_[0].min(), mlp_large.coefs_[0].max()\n",
    "for coef, ax in zip(mlp_large.coefs_[0].T, axes.ravel()):\n",
    "    ax.matshow(coef.reshape(28, 28), cmap=plt.cm.gray, vmin=.5 * vmin,\n",
    "               vmax=.5 * vmax)\n",
    "    ax.set_xticks(())\n",
    "    ax.set_yticks(())\n",
    "plt.show()"
   ]
  },
  {
   "cell_type": "markdown",
   "metadata": {},
   "source": [
    "## QUESTION 5\n",
    "\n",
    "Describe what do you observe by looking at the weights."
   ]
  },
  {
   "cell_type": "markdown",
   "metadata": {},
   "source": [
    "##### [ANSWER TO QUESTION 5]\n",
    "\n",
    "It is difficult to understand what the images represent. What it is possible to see that the shapes shown in the images are more defined in the case with more datas."
   ]
  },
  {
   "cell_type": "markdown",
   "metadata": {},
   "source": [
    "### TO DO 9\n",
    "\n",
    "Take the best SVM model and its parameters, you found in the last notebook. Fit it on a few data points and compute its training and test scores. Then fit also a logistic regression model with C=1. "
   ]
  },
  {
   "cell_type": "code",
   "execution_count": null,
   "metadata": {},
   "outputs": [],
   "source": [
    "m_training = 5000\n",
    "\n",
    "X_train, X_test = X[:m_training], X[m_training:2*m_training]\n",
    "y_train, y_test = y[:m_training], y[m_training:2*m_training]\n",
    "\n",
    "# use best parameters found in the SVM notebook, create SVM and perform fitting\n",
    "\n",
    "svc = SVC(C=10, kernel='rbf', gamma=0.01)\n",
    "\n",
    "svc.fit(X_train, y_train)\n",
    "\n",
    "\n",
    "print ('RESULTS FOR SVM')\n",
    "\n",
    "SVM_training_error =  1-svc.score(X_train, y_train)\n",
    "\n",
    "print(\"Training score SVM:\")\n",
    "print(SVM_training_error)\n",
    "\n",
    "SVM_test_error = 1-svc.score(X_test, y_test)\n",
    "print(\"Test score SVM:\")\n",
    "print(SVM_test_error)"
   ]
  },
  {
   "cell_type": "code",
   "execution_count": null,
   "metadata": {},
   "outputs": [],
   "source": [
    "from sklearn import linear_model\n",
    "\n",
    "regL2 = linear_model.LogisticRegression(C=1)\n",
    "\n",
    "# you can re-use your code from Lab 2\n",
    "\n",
    "regL2.fit(X_train, y_train)\n",
    "\n",
    "print ('\\nRESULTS FOR LOGISTIC REGRESSION WITH REGULARIZATION')\n",
    "\n",
    "training_error =  1-regL2.score(X_train, y_train)\n",
    "test_error =  1-regL2.score(X_test, y_test)\n",
    "\n",
    "\n",
    "\n",
    "print (\"Training error (reg): %f\" % training_error)\n",
    "print (\"Test error (reg): %f\" % test_error)"
   ]
  },
  {
   "cell_type": "markdown",
   "metadata": {},
   "source": [
    "## QUESTION 6\n",
    "Compare the results of Logistic Regression, SVM and NN. Which one achieve the best results? "
   ]
  },
  {
   "cell_type": "markdown",
   "metadata": {},
   "source": [
    "###### [ANSWER TO QUESTION 6]\n",
    "Comparing the training error the SVM and the NN give the same result while the Logistic Regression gives a worse error. While comparing the test error the SVM gives the best result, the NN gives the second best result and the Linear regression the worst one. \n",
    "\n",
    "This means that for this kind of classification the SVM algorithm is better than the others. Maybe a CNN could give a better result."
   ]
  }
 ],
 "metadata": {
  "kernelspec": {
   "display_name": "Python 3 (ipykernel)",
   "language": "python",
   "name": "python3"
  },
  "language_info": {
   "codemirror_mode": {
    "name": "ipython",
    "version": 3
   },
   "file_extension": ".py",
   "mimetype": "text/x-python",
   "name": "python",
   "nbconvert_exporter": "python",
   "pygments_lexer": "ipython3",
   "version": "3.7.11"
  }
 },
 "nbformat": 4,
 "nbformat_minor": 4
}
